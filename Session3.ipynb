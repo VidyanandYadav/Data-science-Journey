{
 "cells": [
  {
   "cell_type": "markdown",
   "id": "1c0e4785-c295-4602-bae4-d534ff11a485",
   "metadata": {},
   "source": [
    "#### Sequence Sum"
   ]
  },
  {
   "cell_type": "code",
   "execution_count": 2,
   "id": "596cf70e-ae87-4ad5-a453-047d818dba07",
   "metadata": {},
   "outputs": [
    {
     "name": "stdin",
     "output_type": "stream",
     "text": [
      "Enter the value of n :  2\n"
     ]
    },
    {
     "name": "stdout",
     "output_type": "stream",
     "text": [
      "2.0\n"
     ]
    }
   ],
   "source": [
    "# Find the sequence sum of given pattern till n where n is given by the user 1/1!+2/2!+3/3!+.... upto n\n",
    "n = int(input(\"Enter the value of n : \"))\n",
    "result = 0\n",
    "fact = 1\n",
    "for i in range(1,n+1):\n",
    "    fact = fact*i\n",
    "    result = result + i/fact\n",
    "print(result)    "
   ]
  },
  {
   "cell_type": "markdown",
   "id": "f1b24237-e4c1-4c9d-ab93-5e38b8aed0d3",
   "metadata": {},
   "source": [
    "### ~~~Nested Loops"
   ]
  },
  {
   "cell_type": "code",
   "execution_count": 3,
   "id": "2c6d4c1e-2026-4a6f-9837-b00fe404625a",
   "metadata": {},
   "outputs": [
    {
     "name": "stdout",
     "output_type": "stream",
     "text": [
      "1 1\n",
      "1 2\n",
      "1 3\n",
      "1 4\n",
      "2 1\n",
      "2 2\n",
      "2 3\n",
      "2 4\n",
      "3 1\n",
      "3 2\n",
      "3 3\n",
      "3 4\n",
      "4 1\n",
      "4 2\n",
      "4 3\n",
      "4 4\n"
     ]
    }
   ],
   "source": [
    "#Examples --->>> Unique Pairs\n",
    "for i in range(1,5):\n",
    "    for j in range(1,5):\n",
    "        print(i,j)"
   ]
  },
  {
   "cell_type": "markdown",
   "id": "3b6f1139-cd4b-47b4-bb10-ff518616e82b",
   "metadata": {},
   "source": [
    "## Pattern Printing"
   ]
  },
  {
   "cell_type": "markdown",
   "id": "9c53452c-e269-4c68-a21b-b88e3eab10e1",
   "metadata": {},
   "source": [
    "#### Pattern 1"
   ]
  },
  {
   "cell_type": "markdown",
   "id": "06d0e037-2b38-4a98-a15d-1085153a2155",
   "metadata": {},
   "source": [
    "*\n",
    "**\n",
    "***\n",
    "****\n",
    "*****"
   ]
  },
  {
   "cell_type": "code",
   "execution_count": 8,
   "id": "2d285177-5f3d-4d17-a585-d581f43b160e",
   "metadata": {},
   "outputs": [
    {
     "name": "stdin",
     "output_type": "stream",
     "text": [
      "Enter the no of Rows :  7\n"
     ]
    },
    {
     "name": "stdout",
     "output_type": "stream",
     "text": [
      "*\n",
      "**\n",
      "***\n",
      "****\n",
      "*****\n",
      "******\n",
      "*******\n"
     ]
    }
   ],
   "source": [
    "#Given pattern looks like\n",
    "rows = int(input(\"Enter the no of Rows : \"))\n",
    "for i in range(1,rows+1):\n",
    "  for j in range(1,i+1):\n",
    "    print(\"*\",end=\"\")\n",
    "  print()   "
   ]
  },
  {
   "cell_type": "markdown",
   "id": "3061437c-6fe1-4194-9078-1fad18f871e1",
   "metadata": {},
   "source": [
    "#### Pattern 2"
   ]
  },
  {
   "cell_type": "markdown",
   "id": "6ad7a3a0-113b-45a5-9226-d39f31274169",
   "metadata": {},
   "source": [
    "1\n",
    "121\n",
    "12321\n",
    "1234321"
   ]
  },
  {
   "cell_type": "code",
   "execution_count": 17,
   "id": "542aba52-306b-476e-8881-586c1e00d870",
   "metadata": {},
   "outputs": [
    {
     "name": "stdin",
     "output_type": "stream",
     "text": [
      "Enter the no of rows :  4\n"
     ]
    },
    {
     "name": "stdout",
     "output_type": "stream",
     "text": [
      "1\n",
      "121\n",
      "12321\n",
      "1234321\n"
     ]
    }
   ],
   "source": [
    "rows = int(input(\"Enter the no of rows : \"))\n",
    "for i in range(1,rows+1):\n",
    "  for j in range(1,i+1):\n",
    "    print(j,end=\"\")\n",
    "  for k in range(i-1,0,-1):\n",
    "      print(k,end=\"\")\n",
    "  print()    "
   ]
  },
  {
   "cell_type": "markdown",
   "id": "406e16d0-d5eb-4218-b8c7-54939a544f86",
   "metadata": {},
   "source": [
    "## Loop Control Statement"
   ]
  },
  {
   "cell_type": "markdown",
   "id": "4c7d00ba-49a0-4966-8c8d-d5b14699912b",
   "metadata": {},
   "source": [
    ".Break\n",
    ".Continue\n",
    ".Pass"
   ]
  },
  {
   "cell_type": "markdown",
   "id": "8ce35961-ecf7-43f8-a52b-93c5e9a9c057",
   "metadata": {},
   "source": [
    "##### ~~~Break Statement"
   ]
  },
  {
   "cell_type": "code",
   "execution_count": 20,
   "id": "1a566734-cea8-4f41-98ef-0701d1a5fea0",
   "metadata": {},
   "outputs": [
    {
     "name": "stdout",
     "output_type": "stream",
     "text": [
      "1\n",
      "2\n",
      "3\n",
      "4\n"
     ]
    }
   ],
   "source": [
    "# Break Statement\n",
    "for i in range(1,10):\n",
    "    if i == 5:\n",
    "      break\n",
    "    print(i)"
   ]
  },
  {
   "cell_type": "code",
   "execution_count": 31,
   "id": "fa88eeb1-4db1-4333-951c-67739b9f5410",
   "metadata": {},
   "outputs": [
    {
     "name": "stdin",
     "output_type": "stream",
     "text": [
      "Enter lower Range :  10\n",
      "Enter upper Range :  100\n"
     ]
    },
    {
     "name": "stdout",
     "output_type": "stream",
     "text": [
      "The prime no's b/w 10 and 100 are : \n",
      "11 13 17 19 23 29 31 37 41 43 47 53 59 61 67 71 73 79 83 89 97 "
     ]
    }
   ],
   "source": [
    "# Que: Print all prime no b/w two number given by user \n",
    "lower = int(input(\"Enter lower Range : \"))\n",
    "upper = int(input(\"Enter upper Range : \"))\n",
    "print(\"The prime no's b/w\",lower, \"and\", upper, \"are : \")\n",
    "\n",
    "for i in range(lower,upper+1):\n",
    "    for j in range(2,i):\n",
    "       if i%j == 0:\n",
    "        break\n",
    "    else:\n",
    "        print(i,end=\" \")"
   ]
  },
  {
   "cell_type": "markdown",
   "id": "6949bdf0-d975-45bf-bcd0-a0775aa17459",
   "metadata": {},
   "source": [
    "##### ~~~Continue Statement"
   ]
  },
  {
   "cell_type": "code",
   "execution_count": 33,
   "id": "21d2b7fe-2aca-4d00-8be1-eca87e38e549",
   "metadata": {},
   "outputs": [
    {
     "name": "stdout",
     "output_type": "stream",
     "text": [
      "1 2 3 4 6 7 8 9 "
     ]
    }
   ],
   "source": [
    "for i in range(1,10):\n",
    "    if i == 5:\n",
    "        continue\n",
    "    print(i,end=\" \")    "
   ]
  },
  {
   "cell_type": "code",
   "execution_count": 34,
   "id": "3c991f3f-ab86-405b-b01e-870a74208547",
   "metadata": {},
   "outputs": [
    {
     "name": "stdout",
     "output_type": "stream",
     "text": [
      "1 3 5 7 9 11 13 15 17 19 21 23 25 27 29 31 33 35 37 39 41 43 45 47 49 51 53 55 57 59 61 63 65 67 69 71 73 75 77 79 81 83 85 87 89 91 93 95 97 99 "
     ]
    }
   ],
   "source": [
    "# Let a simple program on continue statement-->>> to print odd no b/w 1 and 100\n",
    "for i in range(1,101):\n",
    "    if i%2 == 0 :\n",
    "        continue\n",
    "    else:\n",
    "        print(i,end=\" \")"
   ]
  },
  {
   "cell_type": "markdown",
   "id": "03d6659e-d55b-4f2e-bf5f-8b65c0d65a7f",
   "metadata": {},
   "source": [
    "##### ~~~Pass Statement"
   ]
  },
  {
   "cell_type": "code",
   "execution_count": 36,
   "id": "eda0f6c5-d747-4d60-a9ea-8a168962df5c",
   "metadata": {},
   "outputs": [],
   "source": [
    "# Usually pass statement is used to say that please don't show any error \n",
    "# when you don't want execute the program \n",
    "# Or simply when you write some code but further code is not known then you can write pass and move next \n",
    "# which will keep you error free\n",
    "for i in range(1,10):\n",
    "    pass"
   ]
  },
  {
   "cell_type": "markdown",
   "id": "8c7b08a9-8b63-4094-afe0-a72734583f5e",
   "metadata": {},
   "source": [
    "Strings are sequence of Cgaracters \n",
    "In Python specifically, strings are a sequence of Unicode(16 bit i.e 2^16) Characters\n",
    ".Creating Strings\n",
    ".Accessing Strings\n",
    ".Adding Chars to Strings\n",
    ".Editing Strings\n",
    ".Deleting Strings\n",
    ".Operations on Strings\n",
    ".String Functions"
   ]
  },
  {
   "cell_type": "markdown",
   "id": "bf43d13d-0c06-46e5-a035-4c5fa3e79b76",
   "metadata": {},
   "source": [
    "###### ~~Creating Strings"
   ]
  },
  {
   "cell_type": "code",
   "execution_count": 38,
   "id": "ef5ea094-f109-4f24-90b7-db4b585fb9ab",
   "metadata": {},
   "outputs": [
    {
     "name": "stdout",
     "output_type": "stream",
     "text": [
      "Hello\n",
      "It's raining Outside\n",
      "hello\n"
     ]
    }
   ],
   "source": [
    "s = 'Hello'\n",
    "print(s)\n",
    "ss = \"It's raining Outside\"\n",
    "print(ss)\n",
    "# Multiline Strings\n",
    "sss = str('hello')\n",
    "print(sss)"
   ]
  },
  {
   "cell_type": "markdown",
   "id": "ff559591-4347-4f43-a1a3-427b97669305",
   "metadata": {},
   "source": [
    "###### ~~Accessing Strings"
   ]
  },
  {
   "cell_type": "code",
   "execution_count": 39,
   "id": "c72d2510-3db9-4f73-8c4b-38154ca5bd7d",
   "metadata": {},
   "outputs": [
    {
     "name": "stdout",
     "output_type": "stream",
     "text": [
      "H\n"
     ]
    }
   ],
   "source": [
    "# Positive Indexing\n",
    "s = \"Hello World\"\n",
    "print(s[0])"
   ]
  },
  {
   "cell_type": "code",
   "execution_count": 1,
   "id": "b097774d-419f-4eb7-93b6-609f191ed6af",
   "metadata": {},
   "outputs": [
    {
     "name": "stdout",
     "output_type": "stream",
     "text": [
      "u\n"
     ]
    }
   ],
   "source": [
    "# Negative Indexing-->>> means string k last index se access krega with -ve sign start from 1 to n\n",
    "s = \"How are you\"\n",
    "print(s[-1])"
   ]
  },
  {
   "cell_type": "code",
   "execution_count": 49,
   "id": "5017e095-bcf2-48d7-bcd2-5cf4619ffed8",
   "metadata": {},
   "outputs": [
    {
     "name": "stdout",
     "output_type": "stream",
     "text": [
      "llo W\n",
      "Hl\n",
      "W olle\n",
      "dlroW olleH\n",
      "dlroW\n"
     ]
    }
   ],
   "source": [
    "# Slicing\n",
    "s = \"Hello World\" #Here space is aslo included in index\n",
    "print(s[2:7]) #Including 1st index and excluding last index i.e 2 idx print but 4 idx not print\n",
    "print(s[0:6:3])#Here 3 indicates that each index k baad 3 chhodkar agla index print hoga\n",
    "\n",
    "#For reverse printing mind that first index should be greater one\n",
    "print(s[6:0:-1])\n",
    "#For whole string to print in reverse order\n",
    "print(s[::-1])\n",
    "\n",
    "print(s[-1:-6:-1])"
   ]
  },
  {
   "cell_type": "markdown",
   "id": "f9937052-c48b-4801-88b3-a25d21f20102",
   "metadata": {},
   "source": [
    "###### ~~Adding Chars to Strings"
   ]
  },
  {
   "cell_type": "markdown",
   "id": "1beb31ae-c9a0-427b-ba1d-9b528dc660cc",
   "metadata": {},
   "source": [
    "###### ~~Editing and Deleting in Strings"
   ]
  },
  {
   "cell_type": "markdown",
   "id": "c7d54912-00a3-448c-953b-81df91ab8fa3",
   "metadata": {},
   "source": [
    "###### Most Impt : In Python, Strings are Immutable"
   ]
  },
  {
   "cell_type": "code",
   "execution_count": 55,
   "id": "3c69ad84-bc58-43ce-9e1f-ab48f049c9be",
   "metadata": {},
   "outputs": [],
   "source": [
    "# Below code will throw error bcz In Python,strings are Immutable means cannot be changed\n",
    "s = \"Hello World\"\n",
    "s[0] = \"H\""
   ]
  },
  {
   "cell_type": "markdown",
   "id": "79980425-5964-4a2b-ae01-4c0f4bea3442",
   "metadata": {},
   "source": [
    "###### ~~Deleting Strings"
   ]
  },
  {
   "cell_type": "code",
   "execution_count": 60,
   "id": "5b0bdac1-b4fc-41cc-8fcf-5f6e002142db",
   "metadata": {},
   "outputs": [
    {
     "ename": "NameError",
     "evalue": "name 's' is not defined",
     "output_type": "error",
     "traceback": [
      "\u001b[1;31m---------------------------------------------------------------------------\u001b[0m",
      "\u001b[1;31mNameError\u001b[0m                                 Traceback (most recent call last)",
      "Cell \u001b[1;32mIn[60], line 4\u001b[0m\n\u001b[0;32m      2\u001b[0m s \u001b[38;5;241m=\u001b[39m \u001b[38;5;124m\"\u001b[39m\u001b[38;5;124mHello World\u001b[39m\u001b[38;5;124m\"\u001b[39m\n\u001b[0;32m      3\u001b[0m \u001b[38;5;28;01mdel\u001b[39;00m s\n\u001b[1;32m----> 4\u001b[0m \u001b[38;5;28mprint\u001b[39m(s)\n",
      "\u001b[1;31mNameError\u001b[0m: name 's' is not defined"
     ]
    }
   ],
   "source": [
    "# In Python, del operator is used to delete string-->>> Simple example is given below\n",
    "s = \"Hello World\"\n",
    "del s\n",
    "print(s)"
   ]
  },
  {
   "cell_type": "code",
   "execution_count": 62,
   "id": "22b902d3-62ef-4a7a-8841-5b7e7cd6b4f5",
   "metadata": {},
   "outputs": [
    {
     "ename": "TypeError",
     "evalue": "'str' object does not support item deletion",
     "output_type": "error",
     "traceback": [
      "\u001b[1;31m---------------------------------------------------------------------------\u001b[0m",
      "\u001b[1;31mTypeError\u001b[0m                                 Traceback (most recent call last)",
      "Cell \u001b[1;32mIn[62], line 3\u001b[0m\n\u001b[0;32m      1\u001b[0m \u001b[38;5;66;03m# Predict the output\u001b[39;00m\n\u001b[0;32m      2\u001b[0m s \u001b[38;5;241m=\u001b[39m \u001b[38;5;124m\"\u001b[39m\u001b[38;5;124mHello World\u001b[39m\u001b[38;5;124m\"\u001b[39m\n\u001b[1;32m----> 3\u001b[0m \u001b[38;5;28;01mdel\u001b[39;00m s[\u001b[38;5;241m-\u001b[39m\u001b[38;5;241m1\u001b[39m:\u001b[38;5;241m5\u001b[39m:\u001b[38;5;241m2\u001b[39m] \u001b[38;5;66;03m#-->> We're changing the string which is called mutability hence in Python mutability isn't allowed hence throw error\u001b[39;00m\n\u001b[0;32m      4\u001b[0m \u001b[38;5;28mprint\u001b[39m(s)\n",
      "\u001b[1;31mTypeError\u001b[0m: 'str' object does not support item deletion"
     ]
    }
   ],
   "source": [
    "# Predict the output\n",
    "s = \"Hello World\"\n",
    "del s[-1:5:2] #-->> We're changing the string which is called mutability hence in Python mutability isn't allowed hence throw error\n",
    "print(s)"
   ]
  },
  {
   "cell_type": "markdown",
   "id": "d3b6c1d3-df99-42db-8b60-713e44b616f9",
   "metadata": {},
   "source": [
    "##### ~~Operations on Strings"
   ]
  },
  {
   "cell_type": "markdown",
   "id": "5cce7f89-4f54-4290-be20-e56edf03e48d",
   "metadata": {},
   "source": [
    "###### 1.Arithmetic Operations"
   ]
  },
  {
   "cell_type": "code",
   "execution_count": null,
   "id": "14d82288-6261-4871-8836-fb0b5b67bf1e",
   "metadata": {},
   "outputs": [],
   "source": [
    "# Arithmetic Operations\n",
    "#(a) : Addition\n",
    "print(\"Delhi\"+ \" \" + \"Mumbai\")\n",
    "#(b): Multiplication\n",
    "print(\"Mumbai \"*5)"
   ]
  },
  {
   "cell_type": "markdown",
   "id": "a49c37b3-7d35-4443-a1c6-9cdf2a975b86",
   "metadata": {},
   "source": [
    "###### 2.Relational Operations"
   ]
  },
  {
   "cell_type": "code",
   "execution_count": 75,
   "id": "a51e4086-2715-4eca-98cd-757b27b4ccc0",
   "metadata": {},
   "outputs": [
    {
     "data": {
      "text/plain": [
       "False"
      ]
     },
     "execution_count": 75,
     "metadata": {},
     "output_type": "execute_result"
    }
   ],
   "source": [
    "\"Mumbai\" == \"Pune\""
   ]
  },
  {
   "cell_type": "code",
   "execution_count": 76,
   "id": "08b7f0d6-fb44-4f28-aa10-20f00d8cc399",
   "metadata": {},
   "outputs": [
    {
     "data": {
      "text/plain": [
       "True"
      ]
     },
     "execution_count": 76,
     "metadata": {},
     "output_type": "execute_result"
    }
   ],
   "source": [
    "\"Mumbai\" != \"Pune\""
   ]
  },
  {
   "cell_type": "code",
   "execution_count": null,
   "id": "61dcdee9-1728-4954-88da-e5fa41a2afaf",
   "metadata": {},
   "outputs": [],
   "source": [
    "# Below code will not throw error bcz it works as lexographically order.\n",
    "# lexicographical order is similar to alphabetical order but considers character ASCII values.\n",
    "# ASCII value of M is 77 and P is 80 then 77>80-- False\n",
    "\"Mumbai\">\"Pune\""
   ]
  },
  {
   "cell_type": "code",
   "execution_count": null,
   "id": "30e4d609-cb7d-4dfd-8404-a03086fc7226",
   "metadata": {},
   "outputs": [],
   "source": [
    "# Same reason ASCII value of P is 80 but p is 112 hencew false\n",
    "\"Pune\" > \"pune\""
   ]
  },
  {
   "cell_type": "markdown",
   "id": "c22e4215-adac-4d30-89c9-487ab3833b83",
   "metadata": {},
   "source": [
    "###### 3.Logical Operations"
   ]
  },
  {
   "cell_type": "markdown",
   "id": "d9490cc9-dcd3-4aed-b45d-c0fdb5fb7c92",
   "metadata": {},
   "source": [
    "###### NOTE: Python considered empty string as False and string with some word as True"
   ]
  },
  {
   "cell_type": "code",
   "execution_count": 80,
   "id": "72e53a95-13b6-4164-8e35-4b4491238f7c",
   "metadata": {},
   "outputs": [
    {
     "data": {
      "text/plain": [
       "'WORLD'"
      ]
     },
     "execution_count": 80,
     "metadata": {},
     "output_type": "execute_result"
    }
   ],
   "source": [
    "\"HELLO\" and \"WORLD\"\n",
    "#Means HELLO is true and WORLD is true-->>> T and T-->> why WORLD is printed bcz if 1st is true then \n",
    "# We've to check another one to be true in AND operation then if 2nd is true then print 2nd"
   ]
  },
  {
   "cell_type": "code",
   "execution_count": 81,
   "id": "5522b33d-3581-40d5-a454-1b66716a4695",
   "metadata": {},
   "outputs": [
    {
     "data": {
      "text/plain": [
       "'HELLO'"
      ]
     },
     "execution_count": 81,
     "metadata": {},
     "output_type": "execute_result"
    }
   ],
   "source": [
    "\"HELLO\" or \"WORLD\"\n",
    "#If anyone is true then true so here 1st is true then don't need to check 2nd so print 1st "
   ]
  },
  {
   "cell_type": "code",
   "execution_count": 82,
   "id": "faf32f6f-afd1-4b9c-805f-94576564fd6e",
   "metadata": {},
   "outputs": [
    {
     "data": {
      "text/plain": [
       "''"
      ]
     },
     "execution_count": 82,
     "metadata": {},
     "output_type": "execute_result"
    }
   ],
   "source": [
    "\"\" and \"WORLD\"\n",
    "# F and T -->> F hence output will be \"\""
   ]
  },
  {
   "cell_type": "code",
   "execution_count": 83,
   "id": "a35e97e7-ac85-4c7e-8ccb-e5864e87cfe2",
   "metadata": {},
   "outputs": [
    {
     "data": {
      "text/plain": [
       "True"
      ]
     },
     "execution_count": 83,
     "metadata": {},
     "output_type": "execute_result"
    }
   ],
   "source": [
    "not \"\" # \"\" is false and it's not is true"
   ]
  },
  {
   "cell_type": "code",
   "execution_count": 84,
   "id": "0146639b-cc67-4a84-a0c8-2a902de370b4",
   "metadata": {},
   "outputs": [
    {
     "data": {
      "text/plain": [
       "False"
      ]
     },
     "execution_count": 84,
     "metadata": {},
     "output_type": "execute_result"
    }
   ],
   "source": [
    "not \"Hello\" #Hello is true and it's not is false"
   ]
  },
  {
   "cell_type": "markdown",
   "id": "d7b78131-9797-4514-b803-3ee820217f59",
   "metadata": {},
   "source": [
    "###### 4.Loops on Strings"
   ]
  },
  {
   "cell_type": "markdown",
   "id": "0862510b-5059-49d0-affb-228bfc728d8a",
   "metadata": {},
   "source": [
    "###### NOTE: In Python, String is Iterable"
   ]
  },
  {
   "cell_type": "code",
   "execution_count": 85,
   "id": "78841a5e-fda5-42fa-a556-2111315f6815",
   "metadata": {},
   "outputs": [
    {
     "name": "stdout",
     "output_type": "stream",
     "text": [
      "H\n",
      "e\n",
      "l\n",
      "l\n",
      "o\n"
     ]
    }
   ],
   "source": [
    "# Example of string is iterable\n",
    "for i in \"Hello\":\n",
    "    print(i)"
   ]
  },
  {
   "cell_type": "code",
   "execution_count": 86,
   "id": "0d06a4da-b1e9-4997-929d-54b9623b6164",
   "metadata": {},
   "outputs": [
    {
     "name": "stdout",
     "output_type": "stream",
     "text": [
      "Pune\n",
      "Pune\n",
      "Pune\n",
      "Pune\n",
      "Pune\n",
      "Pune\n"
     ]
    }
   ],
   "source": [
    "#Another Example\n",
    "for i in \"Mumbai\":\n",
    "    print(\"Pune\")\n",
    "#It means jitna index Mumbai ka hai (i.e 6 here) utne baar Pune print hoga"
   ]
  },
  {
   "cell_type": "markdown",
   "id": "a5e1d87f-1ebc-4ff8-9301-7fbe88d4c4c2",
   "metadata": {},
   "source": [
    "###### 5.Membership Operations"
   ]
  },
  {
   "cell_type": "code",
   "execution_count": 87,
   "id": "bc75eec8-8429-4daf-9167-aa4d3476e80c",
   "metadata": {},
   "outputs": [
    {
     "data": {
      "text/plain": [
       "True"
      ]
     },
     "execution_count": 87,
     "metadata": {},
     "output_type": "execute_result"
    }
   ],
   "source": [
    "\"D\" in \"Delhi\""
   ]
  },
  {
   "cell_type": "code",
   "execution_count": 88,
   "id": "0293d438-b838-4d1f-9bfd-9342d962c5e6",
   "metadata": {},
   "outputs": [
    {
     "data": {
      "text/plain": [
       "True"
      ]
     },
     "execution_count": 88,
     "metadata": {},
     "output_type": "execute_result"
    }
   ],
   "source": [
    "\"K\" not in \"Delhi\""
   ]
  },
  {
   "cell_type": "code",
   "execution_count": 90,
   "id": "774045a0-06a5-41ab-9fc8-e9d5a2eb5a87",
   "metadata": {},
   "outputs": [
    {
     "data": {
      "text/plain": [
       "False"
      ]
     },
     "execution_count": 90,
     "metadata": {},
     "output_type": "execute_result"
    }
   ],
   "source": [
    "#NOTE: It is a case sensitive i.e uppercase and lowercase are different\n",
    "\"d\" in \"Delhi\""
   ]
  },
  {
   "cell_type": "markdown",
   "id": "ea92eb67-8f81-4134-824e-efbaac8bdc94",
   "metadata": {},
   "source": [
    "##### ~~String Functions"
   ]
  },
  {
   "cell_type": "markdown",
   "id": "b05a4bea-3eb7-4f25-afb2-704fea3a5a67",
   "metadata": {},
   "source": [
    "##### Common Functions are : \n",
    "###### 1.len\n",
    "###### 2.max\n",
    "###### 3.min\n",
    "###### 4.sorted"
   ]
  },
  {
   "cell_type": "code",
   "execution_count": 91,
   "id": "8dda528f-8b0a-459d-bb49-f41dfc3ae570",
   "metadata": {},
   "outputs": [
    {
     "data": {
      "text/plain": [
       "11"
      ]
     },
     "execution_count": 91,
     "metadata": {},
     "output_type": "execute_result"
    }
   ],
   "source": [
    "# len function\n",
    "len(\"Hello World\")"
   ]
  },
  {
   "cell_type": "code",
   "execution_count": 92,
   "id": "4166f8f5-c05f-4330-ae80-5220b462b803",
   "metadata": {},
   "outputs": [
    {
     "data": {
      "text/plain": [
       "'r'"
      ]
     },
     "execution_count": 92,
     "metadata": {},
     "output_type": "execute_result"
    }
   ],
   "source": [
    "#max function\n",
    "max(\"Hello World\")"
   ]
  },
  {
   "cell_type": "code",
   "execution_count": 93,
   "id": "5598bfdf-48d7-4c8a-a0fb-8b3e6af13468",
   "metadata": {},
   "outputs": [
    {
     "data": {
      "text/plain": [
       "' '"
      ]
     },
     "execution_count": 93,
     "metadata": {},
     "output_type": "execute_result"
    }
   ],
   "source": [
    "#min function\n",
    "min(\"Hello World\")"
   ]
  },
  {
   "cell_type": "code",
   "execution_count": 94,
   "id": "c800808f-3eb2-455b-807a-d20633a82fa1",
   "metadata": {},
   "outputs": [
    {
     "data": {
      "text/plain": [
       "[' ', 'H', 'W', 'd', 'e', 'l', 'l', 'l', 'o', 'o', 'r']"
      ]
     },
     "execution_count": 94,
     "metadata": {},
     "output_type": "execute_result"
    }
   ],
   "source": [
    "#sorted function\n",
    "sorted(\"Hello World\")\n",
    "#All the letter of given string are arranged in ascending order of their ASCII values"
   ]
  },
  {
   "cell_type": "code",
   "execution_count": 95,
   "id": "27c3419c-ddd1-43fa-8516-35d02f83cf8e",
   "metadata": {},
   "outputs": [
    {
     "data": {
      "text/plain": [
       "['r', 'o', 'o', 'l', 'l', 'l', 'e', 'd', 'W', 'H', ' ']"
      ]
     },
     "execution_count": 95,
     "metadata": {},
     "output_type": "execute_result"
    }
   ],
   "source": [
    "#Reverse Sorting\n",
    "sorted(\"Hello World\",reverse=True)"
   ]
  },
  {
   "cell_type": "markdown",
   "id": "0044f178-a106-4d41-bf5e-9160f920d09f",
   "metadata": {},
   "source": [
    "###### Capitalize/Title/Upper/Lower/Swapcase function"
   ]
  },
  {
   "cell_type": "markdown",
   "id": "9ca3cf72-aba8-4eb8-9ecc-60efbfd49ee1",
   "metadata": {},
   "source": [
    "###### NOTE: Niche ham jo bhi function use kr rhe hain usase naya string form hoke usme changes ho rhe hain our original string remain unchanged bcz we already know that Strings are immutable in Python \n"
   ]
  },
  {
   "cell_type": "code",
   "execution_count": 118,
   "id": "f91acc0a-b376-4ad6-8f77-45c539a190a7",
   "metadata": {},
   "outputs": [
    {
     "data": {
      "text/plain": [
       "'Hello world'"
      ]
     },
     "execution_count": 118,
     "metadata": {},
     "output_type": "execute_result"
    }
   ],
   "source": [
    "#Capitalize--->> 1st letter ko capital kr dega\n",
    "s = \"hello world\"\n",
    "s.capitalize()"
   ]
  },
  {
   "cell_type": "code",
   "execution_count": 119,
   "id": "d63dee48-e244-46fd-9c8d-c9c3faf3879e",
   "metadata": {},
   "outputs": [
    {
     "data": {
      "text/plain": [
       "'Hi I Am A Student'"
      ]
     },
     "execution_count": 119,
     "metadata": {},
     "output_type": "execute_result"
    }
   ],
   "source": [
    "#title function capitalizes first letter of each word\n",
    "\"hi i am a student\".title()"
   ]
  },
  {
   "cell_type": "code",
   "execution_count": 120,
   "id": "fd629e08-b3a6-44b5-a83e-347e2a84bfbd",
   "metadata": {},
   "outputs": [
    {
     "data": {
      "text/plain": [
       "'HELLO WORLD'"
      ]
     },
     "execution_count": 120,
     "metadata": {},
     "output_type": "execute_result"
    }
   ],
   "source": [
    "s.upper()"
   ]
  },
  {
   "cell_type": "code",
   "execution_count": 121,
   "id": "efc37290-e1b9-4513-82ed-8a9a7a38b0fb",
   "metadata": {},
   "outputs": [
    {
     "data": {
      "text/plain": [
       "'hello world'"
      ]
     },
     "execution_count": 121,
     "metadata": {},
     "output_type": "execute_result"
    }
   ],
   "source": [
    "s.lower()"
   ]
  },
  {
   "cell_type": "code",
   "execution_count": 100,
   "id": "1c3d737e-51b8-4e27-997a-77313b8e9c2e",
   "metadata": {},
   "outputs": [
    {
     "data": {
      "text/plain": [
       "\"how're you\""
      ]
     },
     "execution_count": 100,
     "metadata": {},
     "output_type": "execute_result"
    }
   ],
   "source": [
    "\"HOW're YOU\".lower()"
   ]
  },
  {
   "cell_type": "code",
   "execution_count": 101,
   "id": "61877830-583c-45a2-a96e-217e9fa4a572",
   "metadata": {},
   "outputs": [
    {
     "data": {
      "text/plain": [
       "'tHERE is soME iSSue'"
      ]
     },
     "execution_count": 101,
     "metadata": {},
     "output_type": "execute_result"
    }
   ],
   "source": [
    "#swap case upper ko lower and lower ko upper\n",
    "\"There IS SOme IssUE\".swapcase()"
   ]
  },
  {
   "cell_type": "markdown",
   "id": "01a9ffb5-c546-400a-bae2-e42c561a2b37",
   "metadata": {},
   "source": [
    "###### Count/Find/Index function"
   ]
  },
  {
   "cell_type": "code",
   "execution_count": 105,
   "id": "5091ae87-5160-4967-b677-58af25882673",
   "metadata": {},
   "outputs": [
    {
     "data": {
      "text/plain": [
       "5"
      ]
     },
     "execution_count": 105,
     "metadata": {},
     "output_type": "execute_result"
    }
   ],
   "source": [
    "\"My Name is Vidyanand Yadav\".count(\"a\")"
   ]
  },
  {
   "cell_type": "code",
   "execution_count": 107,
   "id": "6984bf19-fc6e-430e-ae30-a978532d845d",
   "metadata": {},
   "outputs": [
    {
     "data": {
      "text/plain": [
       "-1"
      ]
     },
     "execution_count": 107,
     "metadata": {},
     "output_type": "execute_result"
    }
   ],
   "source": [
    "\"My Name is Vidyanand Yadav\".find(\"x\")\n",
    "#As x is not present it will return -1 "
   ]
  },
  {
   "cell_type": "code",
   "execution_count": 111,
   "id": "69e065d1-0eb8-4598-af5c-5fd270e377b4",
   "metadata": {},
   "outputs": [
    {
     "data": {
      "text/plain": [
       "8"
      ]
     },
     "execution_count": 111,
     "metadata": {},
     "output_type": "execute_result"
    }
   ],
   "source": [
    "\"My Name is Vidyanand Yadav\".index(\"is\")\n",
    "#It will show the index no of is...\n",
    "# If given search is not present it will show error but not -1 as in above case                                \n"
   ]
  },
  {
   "cell_type": "markdown",
   "id": "40d9eace-a44f-48b6-967e-544d689c14f3",
   "metadata": {},
   "source": [
    "###### endswith/startswith function"
   ]
  },
  {
   "cell_type": "code",
   "execution_count": 112,
   "id": "04932b1a-653b-47b6-9710-80d5c1c07778",
   "metadata": {},
   "outputs": [
    {
     "data": {
      "text/plain": [
       "True"
      ]
     },
     "execution_count": 112,
     "metadata": {},
     "output_type": "execute_result"
    }
   ],
   "source": [
    "\"My Name is Vidyanand Yadav\".endswith(\"av\")\n"
   ]
  },
  {
   "cell_type": "code",
   "execution_count": 113,
   "id": "19b847bf-e16d-457a-a82b-a06264120b02",
   "metadata": {},
   "outputs": [
    {
     "data": {
      "text/plain": [
       "False"
      ]
     },
     "execution_count": 113,
     "metadata": {},
     "output_type": "execute_result"
    }
   ],
   "source": [
    "\"My Name is Vidyanand Yadav\".endswith(\"avy\")\n"
   ]
  },
  {
   "cell_type": "code",
   "execution_count": 115,
   "id": "39a36717-4bca-4dea-b4e0-1546eae439b1",
   "metadata": {},
   "outputs": [
    {
     "data": {
      "text/plain": [
       "True"
      ]
     },
     "execution_count": 115,
     "metadata": {},
     "output_type": "execute_result"
    }
   ],
   "source": [
    "\"My Name is Vidyanand Yadav\".startswith(\"My\")\n"
   ]
  },
  {
   "cell_type": "code",
   "execution_count": 116,
   "id": "713b4f24-ea92-439c-aa9e-fa52f320e893",
   "metadata": {},
   "outputs": [
    {
     "data": {
      "text/plain": [
       "False"
      ]
     },
     "execution_count": 116,
     "metadata": {},
     "output_type": "execute_result"
    }
   ],
   "source": [
    "\"My Name is Vidyanand Yadav\".startswith(\"my\")\n"
   ]
  },
  {
   "cell_type": "markdown",
   "id": "a43cacee-7e8c-46bb-873b-fecd98eecac1",
   "metadata": {},
   "source": [
    "###### format function"
   ]
  },
  {
   "cell_type": "code",
   "execution_count": 117,
   "id": "e377f7a8-d8e2-41a0-b732-acc665d976a3",
   "metadata": {},
   "outputs": [
    {
     "data": {
      "text/plain": [
       "'Hi my name is Vidyanand and I am a Male and 20 years old'"
      ]
     },
     "execution_count": 117,
     "metadata": {},
     "output_type": "execute_result"
    }
   ],
   "source": [
    "name = \"Vidyanand\"\n",
    "gender = \"Male\"\n",
    "age = 20\n",
    "\"Hi my name is {} and I am a {} and {} years old\".format(name,gender,age)"
   ]
  },
  {
   "cell_type": "code",
   "execution_count": 122,
   "id": "44fdccbf-9743-4abc-adad-e2206b6cc8bd",
   "metadata": {},
   "outputs": [
    {
     "data": {
      "text/plain": [
       "'Hi my name is Vidyanand and I am a 20 and Male years old'"
      ]
     },
     "execution_count": 122,
     "metadata": {},
     "output_type": "execute_result"
    }
   ],
   "source": [
    "#NOTE: Order is very important\n",
    "name = \"Vidyanand\"\n",
    "gender = \"Male\"\n",
    "age = 20\n",
    "\"Hi my name is {} and I am a {} and {} years old\".format(name,age,gender)"
   ]
  },
  {
   "cell_type": "code",
   "execution_count": 123,
   "id": "bfbbc160-0aa5-4398-b7ee-fc7a4ffcdc54",
   "metadata": {},
   "outputs": [
    {
     "data": {
      "text/plain": [
       "'Hi my name is Vidyanand and I am a Male and 20 years old'"
      ]
     },
     "execution_count": 123,
     "metadata": {},
     "output_type": "execute_result"
    }
   ],
   "source": [
    "#Also you can use index no i.e\n",
    "name = \"Vidyanand\"\n",
    "gender = \"Male\"\n",
    "age = 20\n",
    "\"Hi my name is {2} and I am a {1} and {0} years old\".format(age,gender,name)"
   ]
  },
  {
   "cell_type": "markdown",
   "id": "d48d5722-5e10-4673-8406-bad03a0ac70a",
   "metadata": {},
   "source": [
    "###### isalnum/isalpha/isdigit/isidentifier"
   ]
  },
  {
   "cell_type": "code",
   "execution_count": 128,
   "id": "a647d1d3-b7d6-43d5-9b52-9f5e2bf406fd",
   "metadata": {},
   "outputs": [
    {
     "data": {
      "text/plain": [
       "True"
      ]
     },
     "execution_count": 128,
     "metadata": {},
     "output_type": "execute_result"
    }
   ],
   "source": [
    "#isalnum-->> checks that string is alphanumeric or not\n",
    "\"Prince1863\".isalnum()"
   ]
  },
  {
   "cell_type": "code",
   "execution_count": 127,
   "id": "2f1ea5ff-eaf2-428d-9278-0760d749a2ca",
   "metadata": {},
   "outputs": [
    {
     "data": {
      "text/plain": [
       "False"
      ]
     },
     "execution_count": 127,
     "metadata": {},
     "output_type": "execute_result"
    }
   ],
   "source": [
    "\"Prince1863%\".isalnum()"
   ]
  },
  {
   "cell_type": "code",
   "execution_count": 130,
   "id": "f853c93c-46e2-4f3e-bcbe-eeb1b2600dbf",
   "metadata": {},
   "outputs": [
    {
     "data": {
      "text/plain": [
       "True"
      ]
     },
     "execution_count": 130,
     "metadata": {},
     "output_type": "execute_result"
    }
   ],
   "source": [
    "#isalpha checks for alphabet\n",
    "\"Prince\".isalpha()"
   ]
  },
  {
   "cell_type": "code",
   "execution_count": 131,
   "id": "fdbae09b-e98a-4e91-83b8-03d253e8a582",
   "metadata": {},
   "outputs": [
    {
     "data": {
      "text/plain": [
       "False"
      ]
     },
     "execution_count": 131,
     "metadata": {},
     "output_type": "execute_result"
    }
   ],
   "source": [
    "\"1234qwert\".isdigit()"
   ]
  },
  {
   "cell_type": "code",
   "execution_count": 133,
   "id": "344b3b16-0ca6-4137-818f-40aa26013620",
   "metadata": {},
   "outputs": [
    {
     "data": {
      "text/plain": [
       "True"
      ]
     },
     "execution_count": 133,
     "metadata": {},
     "output_type": "execute_result"
    }
   ],
   "source": [
    "\"name1\".isidentifier()"
   ]
  },
  {
   "cell_type": "code",
   "execution_count": 134,
   "id": "dbcfa6e7-05eb-429c-8fff-51ba2f72a330",
   "metadata": {},
   "outputs": [
    {
     "data": {
      "text/plain": [
       "False"
      ]
     },
     "execution_count": 134,
     "metadata": {},
     "output_type": "execute_result"
    }
   ],
   "source": [
    "\"1name\".isidentifier()"
   ]
  },
  {
   "cell_type": "code",
   "execution_count": 135,
   "id": "4e7bb313-558b-491d-8cc1-edc3e90a70bd",
   "metadata": {},
   "outputs": [
    {
     "data": {
      "text/plain": [
       "True"
      ]
     },
     "execution_count": 135,
     "metadata": {},
     "output_type": "execute_result"
    }
   ],
   "source": [
    "\"Yuvraj_Yadav\".isidentifier()"
   ]
  },
  {
   "cell_type": "code",
   "execution_count": 136,
   "id": "9f6623ac-aa77-414d-8b27-a54a8cf1f50d",
   "metadata": {},
   "outputs": [
    {
     "data": {
      "text/plain": [
       "False"
      ]
     },
     "execution_count": 136,
     "metadata": {},
     "output_type": "execute_result"
    }
   ],
   "source": [
    "\"Yuvraj-Yadav\".isidentifier()"
   ]
  },
  {
   "cell_type": "markdown",
   "id": "9db9d544-e0da-40b6-851f-a86fe17d1011",
   "metadata": {},
   "source": [
    "###### Split/Join"
   ]
  },
  {
   "cell_type": "code",
   "execution_count": 139,
   "id": "24b5bb19-d412-4221-b30d-782d0f51c4b5",
   "metadata": {},
   "outputs": [
    {
     "data": {
      "text/plain": [
       "['Hi', 'My', 'name', 'is', 'Vidyanand', 'Yadav']"
      ]
     },
     "execution_count": 139,
     "metadata": {},
     "output_type": "execute_result"
    }
   ],
   "source": [
    "\"Hi My name is Vidyanand Yadav\".split()"
   ]
  },
  {
   "cell_type": "code",
   "execution_count": 141,
   "id": "3b2eeab3-fe47-494d-84d9-0e5ecdaeae0b",
   "metadata": {},
   "outputs": [
    {
     "data": {
      "text/plain": [
       "['H', ' My name ', 's V', 'dyanand Yadav']"
      ]
     },
     "execution_count": 141,
     "metadata": {},
     "output_type": "execute_result"
    }
   ],
   "source": [
    "\"Hi My name is Vidyanand Yadav\".split(\"i\")"
   ]
  },
  {
   "cell_type": "code",
   "execution_count": 142,
   "id": "7bc340b4-8a4b-43a6-a406-f9f30495d473",
   "metadata": {},
   "outputs": [
    {
     "data": {
      "text/plain": [
       "['Hi My name ', ' Vidyanand Yadav']"
      ]
     },
     "execution_count": 142,
     "metadata": {},
     "output_type": "execute_result"
    }
   ],
   "source": [
    "\"Hi My name is Vidyanand Yadav\".split(\"is\")"
   ]
  },
  {
   "cell_type": "code",
   "execution_count": 143,
   "id": "2dbea3ce-7378-46a5-a532-23aeedfe3837",
   "metadata": {},
   "outputs": [
    {
     "data": {
      "text/plain": [
       "'Heyy ! my name is Vidyanand Yadav'"
      ]
     },
     "execution_count": 143,
     "metadata": {},
     "output_type": "execute_result"
    }
   ],
   "source": [
    "# Join-->> It is the reverse of split function used above\n",
    "\" \".join(['Heyy','!','my','name','is',\"Vidyanand\",\"Yadav\"])"
   ]
  },
  {
   "cell_type": "code",
   "execution_count": 144,
   "id": "bb321a53-3f51-4ad0-8b6c-f189d4dfc569",
   "metadata": {},
   "outputs": [
    {
     "data": {
      "text/plain": [
       "'Heyy-my-name-is-Vidyanand-Yadav'"
      ]
     },
     "execution_count": 144,
     "metadata": {},
     "output_type": "execute_result"
    }
   ],
   "source": [
    "\"-\".join(['Heyy','my','name','is',\"Vidyanand\",\"Yadav\"])"
   ]
  },
  {
   "cell_type": "code",
   "execution_count": 145,
   "id": "8fec05ff-b421-44c3-b4fe-255960e6e4df",
   "metadata": {},
   "outputs": [
    {
     "data": {
      "text/plain": [
       "'Heyy*!*my*name*is*Vidyanand*Yadav'"
      ]
     },
     "execution_count": 145,
     "metadata": {},
     "output_type": "execute_result"
    }
   ],
   "source": [
    "\"*\".join(['Heyy','!','my','name','is',\"Vidyanand\",\"Yadav\"])"
   ]
  },
  {
   "cell_type": "markdown",
   "id": "d518799d-25f0-4cd5-b90d-75fb2cc07816",
   "metadata": {},
   "source": [
    "###### Replace"
   ]
  },
  {
   "cell_type": "code",
   "execution_count": 146,
   "id": "57008a7e-3a09-410a-9b42-f51dc7e8c507",
   "metadata": {},
   "outputs": [
    {
     "data": {
      "text/plain": [
       "'Hi My name is Anurag Yadav'"
      ]
     },
     "execution_count": 146,
     "metadata": {},
     "output_type": "execute_result"
    }
   ],
   "source": [
    "\"Hi My name is Vidyanand Yadav\".replace(\"Vidyanand\",\"Anurag\")"
   ]
  },
  {
   "cell_type": "markdown",
   "id": "eb40488c-d342-4cef-9854-f0ceb05f9668",
   "metadata": {},
   "source": [
    "###### Strip"
   ]
  },
  {
   "cell_type": "code",
   "execution_count": 149,
   "id": "c3c45fd0-7686-4805-8765-771ebebdbeac",
   "metadata": {},
   "outputs": [],
   "source": [
    "# NOTE: Strip will remove all trailing spaces\n",
    "# Trailing means starting or ending with gym"
   ]
  },
  {
   "cell_type": "code",
   "execution_count": 147,
   "id": "0133491a-8298-4a59-94c8-a9159825c304",
   "metadata": {},
   "outputs": [
    {
     "data": {
      "text/plain": [
       "'PRINCE'"
      ]
     },
     "execution_count": 147,
     "metadata": {},
     "output_type": "execute_result"
    }
   ],
   "source": [
    "\"PRINCE                                \".strip()"
   ]
  },
  {
   "cell_type": "code",
   "execution_count": 1,
   "id": "bf7d0c31-0e40-46f8-9be5-d7c0ffc6d06f",
   "metadata": {},
   "outputs": [
    {
     "data": {
      "text/plain": [
       "'Anurag     Yadav'"
      ]
     },
     "execution_count": 1,
     "metadata": {},
     "output_type": "execute_result"
    }
   ],
   "source": [
    "\"Anurag     Yadav\".strip()\n",
    "# Most Important to note that in this no any spaces removes bcz this is neither a trailing nor a leading spaces \n",
    "# trailing spaces -->> occurs after the last character\n",
    "# leading spaces -->> occurs just before the first character"
   ]
  }
 ],
 "metadata": {
  "kernelspec": {
   "display_name": "Python 3 (ipykernel)",
   "language": "python",
   "name": "python3"
  },
  "language_info": {
   "codemirror_mode": {
    "name": "ipython",
    "version": 3
   },
   "file_extension": ".py",
   "mimetype": "text/x-python",
   "name": "python",
   "nbconvert_exporter": "python",
   "pygments_lexer": "ipython3",
   "version": "3.12.7"
  }
 },
 "nbformat": 4,
 "nbformat_minor": 5
}
