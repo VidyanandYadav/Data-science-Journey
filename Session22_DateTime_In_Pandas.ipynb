{
 "cells": [
  {
   "cell_type": "code",
   "execution_count": 2,
   "id": "799e9d2c-bed4-4494-b99a-6a0453f6dfa1",
   "metadata": {},
   "outputs": [],
   "source": [
    "import numpy as np\n",
    "import pandas as pd"
   ]
  },
  {
   "cell_type": "markdown",
   "id": "11a816f9-61a5-490e-ae76-ca6affb9dbd2",
   "metadata": {},
   "source": [
    "#### Timestamp Object\n",
    "###### Time stamps reference particular moments in time (e.g Oct 24th,2022 at 7:00 pm)"
   ]
  },
  {
   "cell_type": "markdown",
   "id": "fbad5b19-37a0-4590-b65d-64362956fed1",
   "metadata": {},
   "source": [
    "##### Creating Timestamp Objects"
   ]
  },
  {
   "cell_type": "code",
   "execution_count": 3,
   "id": "3a288c5d-9a3b-4b33-b277-da63da6dd6c9",
   "metadata": {},
   "outputs": [
    {
     "data": {
      "text/plain": [
       "Timestamp('2025-06-19 00:00:00')"
      ]
     },
     "execution_count": 3,
     "metadata": {},
     "output_type": "execute_result"
    }
   ],
   "source": [
    "# creating timestamp\n",
    "pd.Timestamp('2025/06/19')"
   ]
  },
  {
   "cell_type": "code",
   "execution_count": 9,
   "id": "2cb6cbfe-ce32-41db-b81d-f3ba33631755",
   "metadata": {},
   "outputs": [
    {
     "data": {
      "text/plain": [
       "Timestamp('2025-06-19 00:00:00')"
      ]
     },
     "execution_count": 9,
     "metadata": {},
     "output_type": "execute_result"
    }
   ],
   "source": [
    "# variations\n",
    "pd.Timestamp('2025-6-19')\n",
    "pd.Timestamp('2025, 6, 19')"
   ]
  },
  {
   "cell_type": "code",
   "execution_count": 10,
   "id": "58dcac92-a0f8-43b4-89f1-74c72d5d326c",
   "metadata": {},
   "outputs": [
    {
     "data": {
      "text/plain": [
       "Timestamp('2025-01-01 00:00:00')"
      ]
     },
     "execution_count": 10,
     "metadata": {},
     "output_type": "execute_result"
    }
   ],
   "source": [
    "# only year\n",
    "pd.Timestamp('2025')"
   ]
  },
  {
   "cell_type": "code",
   "execution_count": 11,
   "id": "6b15bee9-b49f-4ee7-9f7e-a316f23d99b8",
   "metadata": {},
   "outputs": [
    {
     "data": {
      "text/plain": [
       "Timestamp('2025-06-19 00:00:00')"
      ]
     },
     "execution_count": 11,
     "metadata": {},
     "output_type": "execute_result"
    }
   ],
   "source": [
    "# using text\n",
    "pd.Timestamp('19th June 2025')"
   ]
  },
  {
   "cell_type": "code",
   "execution_count": 19,
   "id": "c24f03d9-b33c-4e21-a3f3-69f4098a043b",
   "metadata": {},
   "outputs": [
    {
     "data": {
      "text/plain": [
       "Timestamp('2025-06-19 13:38:00')"
      ]
     },
     "execution_count": 19,
     "metadata": {},
     "output_type": "execute_result"
    }
   ],
   "source": [
    "# providing time also\n",
    "pd.Timestamp('19th June 2025 13:38')"
   ]
  },
  {
   "cell_type": "markdown",
   "id": "3c45aa5b-1eb3-462a-94a1-16d31fc0030f",
   "metadata": {},
   "source": [
    "datetime object of python ( NOTE : All the above are datetime object of pandas)"
   ]
  },
  {
   "cell_type": "code",
   "execution_count": 27,
   "id": "409c65b4-3240-4845-ab73-f1cb508d2415",
   "metadata": {},
   "outputs": [
    {
     "data": {
      "text/plain": [
       "Timestamp('2025-06-19 13:44:40')"
      ]
     },
     "execution_count": 27,
     "metadata": {},
     "output_type": "execute_result"
    }
   ],
   "source": [
    "# using datetime.datetime object\n",
    "import datetime as dt\n",
    "dt.datetime(2025,6,19,13,44,40)\n",
    "# Now you can make Timestamp uaing datetime \n",
    "x = pd.Timestamp(dt.datetime(2025,6,19,13,44,40))\n",
    "x"
   ]
  },
  {
   "cell_type": "markdown",
   "id": "911248ba-da36-4c9f-a19c-37bf9be74c90",
   "metadata": {},
   "source": [
    "###### The main profit of storing datwetime in a variable is that you can easily fetch every attributes you want "
   ]
  },
  {
   "cell_type": "code",
   "execution_count": 31,
   "id": "d9010961-e680-419d-8eb8-316175a39b60",
   "metadata": {},
   "outputs": [
    {
     "name": "stdout",
     "output_type": "stream",
     "text": [
      "2025\n",
      "6\n",
      "19\n",
      "13\n",
      "44\n",
      "40\n"
     ]
    }
   ],
   "source": [
    "# fetching attributes\n",
    "print(x.year)\n",
    "print(x.month)\n",
    "print(x.day)\n",
    "print(x.hour)\n",
    "print(x.minute)\n",
    "print(x.second)"
   ]
  },
  {
   "cell_type": "code",
   "execution_count": null,
   "id": "0badb02b-d60b-43c7-b956-a8a9b78bef1e",
   "metadata": {},
   "outputs": [],
   "source": [
    "# why separate objects to handle data and time when python already has datetime functionality?"
   ]
  },
  {
   "cell_type": "markdown",
   "id": "dd0c903d-8a69-4886-b94c-73cdb958e2da",
   "metadata": {},
   "source": [
    " syntax wise datetime is very convenient\n",
    " But the performance takes a hit while working with huge data. List vs Numpy Array\n",
    " The weaknesses of Python's datetime format inspired the NumPy team to add a set of native time series data type to NumPy.\n",
    " The datetime64 dtype encodes dates as 64-bit integers, and thus allows arrays of dates to be represented very compactly."
   ]
  },
  {
   "cell_type": "code",
   "execution_count": 43,
   "id": "e453097e-afbc-436e-b46f-519c2b943949",
   "metadata": {},
   "outputs": [
    {
     "data": {
      "text/plain": [
       "array('2025-06-19', dtype='datetime64[D]')"
      ]
     },
     "execution_count": 43,
     "metadata": {},
     "output_type": "execute_result"
    }
   ],
   "source": [
    "import numpy as np\n",
    "# date = np.array('2025-6-19',dtype = np.datetime64[D])\n",
    "# date\n",
    "# Above one is sir's code but not working for now ao use this one\n",
    "date = np.array('2025-06-19', dtype='datetime64[D]')\n",
    "date"
   ]
  },
  {
   "cell_type": "code",
   "execution_count": 44,
   "id": "3b16a8b2-49e0-47c7-a0b0-fbc1ba4b6e3c",
   "metadata": {},
   "outputs": [
    {
     "data": {
      "text/plain": [
       "array(['2025-06-19', '2025-06-20', '2025-06-21', '2025-06-22',\n",
       "       '2025-06-23', '2025-06-24', '2025-06-25', '2025-06-26',\n",
       "       '2025-06-27', '2025-06-28', '2025-06-29', '2025-06-30'],\n",
       "      dtype='datetime64[D]')"
      ]
     },
     "execution_count": 44,
     "metadata": {},
     "output_type": "execute_result"
    }
   ],
   "source": [
    "date + np.arange(12)\n",
    "# It means numpy datetime object support vectorized operations"
   ]
  },
  {
   "cell_type": "markdown",
   "id": "6203075a-7ee2-4699-ad8b-a289f70c5fce",
   "metadata": {},
   "source": [
    "###### Because of the uniform type in NumPy datetime64 arrays, this type of operation can be accomplished much more quickly than if we were working directly with Python's datetime objects, especially as arrays get large\n",
    "\n",
    "###### Pandas Timestamp object combines the ease-of-use of python datetime with the efficient storage and vectorized interface of numpy.datetime64\n",
    "\n",
    "###### From a group of these Timestamp objects, Pandas can construct a DatetimeIndex that can be used to index data in a Series or DataFrame"
   ]
  },
  {
   "cell_type": "markdown",
   "id": "322abb37-8ade-4823-9f5b-d7ce8b53ef7d",
   "metadata": {},
   "source": [
    "#### DatetimeIndex Object"
   ]
  },
  {
   "cell_type": "markdown",
   "id": "9fc7c68f-2732-4e39-869b-4a2527478ca6",
   "metadata": {},
   "source": [
    "##### A collection of pandas timestamp"
   ]
  },
  {
   "cell_type": "markdown",
   "id": "44032f61-6d82-40f3-b318-980f88c13c7d",
   "metadata": {},
   "source": [
    "###### NOTE : Single datetime ko store krne k liye timestamp use krte hain and multiple k liye Datetimeindex use karte hain"
   ]
  },
  {
   "cell_type": "code",
   "execution_count": 46,
   "id": "6ad2f4a5-33ed-403e-aae0-4ffa8732d1ae",
   "metadata": {},
   "outputs": [
    {
     "data": {
      "text/plain": [
       "DatetimeIndex(['2025-06-19', '2025-06-20', '2025-06-21'], dtype='datetime64[ns]', freq=None)"
      ]
     },
     "execution_count": 46,
     "metadata": {},
     "output_type": "execute_result"
    }
   ],
   "source": [
    "# from strings\n",
    "pd.DatetimeIndex(['2025/6/19','2025/6/20','2025/6/21'])"
   ]
  },
  {
   "cell_type": "code",
   "execution_count": 49,
   "id": "0fa7c438-11b4-44d0-ab62-5ac4ab0a4258",
   "metadata": {},
   "outputs": [
    {
     "data": {
      "text/plain": [
       "Timestamp('2025-06-19 00:00:00')"
      ]
     },
     "execution_count": 49,
     "metadata": {},
     "output_type": "execute_result"
    }
   ],
   "source": [
    "# if you fetch the single date from above DatetimeIndex then it would be Timestamp\n",
    "pd.DatetimeIndex(['2025/6/19','2025/6/20','2025/6/21'])[0]\n",
    "# See in output showing Timestamp or you can use type()"
   ]
  },
  {
   "cell_type": "code",
   "execution_count": 50,
   "id": "8964bd5b-6554-4f6a-a0f0-ed6afa0055da",
   "metadata": {},
   "outputs": [
    {
     "data": {
      "text/plain": [
       "DatetimeIndex(['2025-06-19', '2026-06-19', '2027-06-19'], dtype='datetime64[ns]', freq=None)"
      ]
     },
     "execution_count": 50,
     "metadata": {},
     "output_type": "execute_result"
    }
   ],
   "source": [
    "# using python datetime object\n",
    "pd.DatetimeIndex([dt.datetime(2025,6,19),dt.datetime(2026,6,19),dt.datetime(2027,6,19)])"
   ]
  },
  {
   "cell_type": "code",
   "execution_count": 53,
   "id": "38c97cdb-a9e8-47b2-b9c3-8c47c65caf5f",
   "metadata": {},
   "outputs": [],
   "source": [
    "# using pd.timestamps\n",
    "dt_index = pd.DatetimeIndex([pd.Timestamp(2025,6,19),pd.Timestamp(2026,6,19),pd.Timestamp(2027,6,19)])"
   ]
  },
  {
   "cell_type": "code",
   "execution_count": 54,
   "id": "bb359fc9-e86a-4b0b-91e3-b34dcf433e95",
   "metadata": {},
   "outputs": [
    {
     "data": {
      "text/plain": [
       "2025-06-19    1\n",
       "2026-06-19    2\n",
       "2027-06-19    3\n",
       "dtype: int64"
      ]
     },
     "execution_count": 54,
     "metadata": {},
     "output_type": "execute_result"
    }
   ],
   "source": [
    "# using datetimeIndex as series index\n",
    "pd.Series([1,2,3],index = dt_index)"
   ]
  },
  {
   "cell_type": "markdown",
   "id": "92c49a82-dfb8-4e4a-9fe2-4e85d7896649",
   "metadata": {},
   "source": [
    "##### date_range function"
   ]
  },
  {
   "cell_type": "code",
   "execution_count": 58,
   "id": "150ee259-2a88-4657-a9e7-5783e4fcd428",
   "metadata": {},
   "outputs": [
    {
     "data": {
      "text/plain": [
       "DatetimeIndex(['2025-05-15', '2025-05-16', '2025-05-17', '2025-05-18',\n",
       "               '2025-05-19', '2025-05-20', '2025-05-21', '2025-05-22',\n",
       "               '2025-05-23', '2025-05-24', '2025-05-25', '2025-05-26',\n",
       "               '2025-05-27', '2025-05-28', '2025-05-29', '2025-05-30',\n",
       "               '2025-05-31', '2025-06-01', '2025-06-02', '2025-06-03',\n",
       "               '2025-06-04', '2025-06-05', '2025-06-06', '2025-06-07',\n",
       "               '2025-06-08', '2025-06-09', '2025-06-10', '2025-06-11',\n",
       "               '2025-06-12', '2025-06-13', '2025-06-14', '2025-06-15',\n",
       "               '2025-06-16', '2025-06-17', '2025-06-18', '2025-06-19'],\n",
       "              dtype='datetime64[ns]', freq='D')"
      ]
     },
     "execution_count": 58,
     "metadata": {},
     "output_type": "execute_result"
    }
   ],
   "source": [
    "# generates daily dates in a given range\n",
    "pd.date_range(start = '2025/5/15',end = '2025/6/19', freq = 'D')\n",
    "# THe default value of freq is D"
   ]
  },
  {
   "cell_type": "code",
   "execution_count": 59,
   "id": "c896d77f-a0db-401c-a420-fab2683dc35a",
   "metadata": {},
   "outputs": [
    {
     "data": {
      "text/plain": [
       "DatetimeIndex(['2025-05-15', '2025-05-17', '2025-05-19', '2025-05-21',\n",
       "               '2025-05-23', '2025-05-25', '2025-05-27', '2025-05-29',\n",
       "               '2025-05-31', '2025-06-02', '2025-06-04', '2025-06-06',\n",
       "               '2025-06-08', '2025-06-10', '2025-06-12', '2025-06-14',\n",
       "               '2025-06-16', '2025-06-18'],\n",
       "              dtype='datetime64[ns]', freq='2D')"
      ]
     },
     "execution_count": 59,
     "metadata": {},
     "output_type": "execute_result"
    }
   ],
   "source": [
    "# alternate days in a given range -->> just replace D by 2D in freq \n",
    "pd.date_range(start = '2025/5/15',end = '2025/6/19', freq = '2D')"
   ]
  },
  {
   "cell_type": "code",
   "execution_count": 60,
   "id": "b0924fbf-f269-46e9-8ee9-95b2e8e982e2",
   "metadata": {},
   "outputs": [
    {
     "data": {
      "text/plain": [
       "DatetimeIndex(['2025-05-15', '2025-05-18', '2025-05-21', '2025-05-24',\n",
       "               '2025-05-27', '2025-05-30', '2025-06-02', '2025-06-05',\n",
       "               '2025-06-08', '2025-06-11', '2025-06-14', '2025-06-17'],\n",
       "              dtype='datetime64[ns]', freq='3D')"
      ]
     },
     "execution_count": 60,
     "metadata": {},
     "output_type": "execute_result"
    }
   ],
   "source": [
    "# for a gap of 3 days just use freq = 3D\n",
    "pd.date_range(start = '2025/5/15',end = '2025/6/19', freq = '3D')"
   ]
  },
  {
   "cell_type": "code",
   "execution_count": 62,
   "id": "04d83560-7a62-4ddf-9f88-4923bcf1531f",
   "metadata": {},
   "outputs": [
    {
     "data": {
      "text/plain": [
       "DatetimeIndex(['2025-05-15', '2025-05-16', '2025-05-19', '2025-05-20',\n",
       "               '2025-05-21', '2025-05-22', '2025-05-23', '2025-05-26',\n",
       "               '2025-05-27', '2025-05-28', '2025-05-29', '2025-05-30',\n",
       "               '2025-06-02', '2025-06-03', '2025-06-04', '2025-06-05',\n",
       "               '2025-06-06', '2025-06-09', '2025-06-10', '2025-06-11',\n",
       "               '2025-06-12', '2025-06-13', '2025-06-16', '2025-06-17',\n",
       "               '2025-06-18', '2025-06-19'],\n",
       "              dtype='datetime64[ns]', freq='B')"
      ]
     },
     "execution_count": 62,
     "metadata": {},
     "output_type": "execute_result"
    }
   ],
   "source": [
    "# B -->> If you want only business days (i.e mondat to friday/Saturday ) just use freq] = \"B\"\n",
    "pd.date_range(start = '2025/5/15',end = '2025/6/19', freq = 'B')"
   ]
  },
  {
   "cell_type": "code",
   "execution_count": 73,
   "id": "63039cca-553c-4298-887c-e1c67b729f62",
   "metadata": {},
   "outputs": [
    {
     "data": {
      "text/plain": [
       "DatetimeIndex(['2025-05-18', '2025-05-25', '2025-06-01', '2025-06-08',\n",
       "               '2025-06-15'],\n",
       "              dtype='datetime64[ns]', freq='W-SUN')"
      ]
     },
     "execution_count": 73,
     "metadata": {},
     "output_type": "execute_result"
    }
   ],
   "source": [
    "# W -->> If you want only a suingle day from each week\n",
    "pd.date_range(start = '2025/5/15',end = '2025/6/19', freq = 'W')"
   ]
  },
  {
   "cell_type": "code",
   "execution_count": 74,
   "id": "815ef64f-a940-45e9-b2d6-d5873de6da6a",
   "metadata": {},
   "outputs": [
    {
     "data": {
      "text/plain": [
       "DatetimeIndex(['2025-05-15', '2025-05-22', '2025-05-29', '2025-06-05',\n",
       "               '2025-06-12', '2025-06-19'],\n",
       "              dtype='datetime64[ns]', freq='W-THU')"
      ]
     },
     "execution_count": 74,
     "metadata": {},
     "output_type": "execute_result"
    }
   ],
   "source": [
    "# W-day -->> If you want any specific day from each week then use freq = W-days you want\n",
    "pd.date_range(start = '2025/5/15',end = '2025/6/19', freq = 'W-THU')"
   ]
  },
  {
   "cell_type": "code",
   "execution_count": 75,
   "id": "c2fed5f1-3176-41f8-89e6-a88ac0b47b09",
   "metadata": {},
   "outputs": [
    {
     "data": {
      "text/plain": [
       "DatetimeIndex(['2025-06-17 00:00:00', '2025-06-17 01:00:00',\n",
       "               '2025-06-17 02:00:00', '2025-06-17 03:00:00',\n",
       "               '2025-06-17 04:00:00', '2025-06-17 05:00:00',\n",
       "               '2025-06-17 06:00:00', '2025-06-17 07:00:00',\n",
       "               '2025-06-17 08:00:00', '2025-06-17 09:00:00',\n",
       "               '2025-06-17 10:00:00', '2025-06-17 11:00:00',\n",
       "               '2025-06-17 12:00:00', '2025-06-17 13:00:00',\n",
       "               '2025-06-17 14:00:00', '2025-06-17 15:00:00',\n",
       "               '2025-06-17 16:00:00', '2025-06-17 17:00:00',\n",
       "               '2025-06-17 18:00:00', '2025-06-17 19:00:00',\n",
       "               '2025-06-17 20:00:00', '2025-06-17 21:00:00',\n",
       "               '2025-06-17 22:00:00', '2025-06-17 23:00:00',\n",
       "               '2025-06-18 00:00:00', '2025-06-18 01:00:00',\n",
       "               '2025-06-18 02:00:00', '2025-06-18 03:00:00',\n",
       "               '2025-06-18 04:00:00', '2025-06-18 05:00:00',\n",
       "               '2025-06-18 06:00:00', '2025-06-18 07:00:00',\n",
       "               '2025-06-18 08:00:00', '2025-06-18 09:00:00',\n",
       "               '2025-06-18 10:00:00', '2025-06-18 11:00:00',\n",
       "               '2025-06-18 12:00:00', '2025-06-18 13:00:00',\n",
       "               '2025-06-18 14:00:00', '2025-06-18 15:00:00',\n",
       "               '2025-06-18 16:00:00', '2025-06-18 17:00:00',\n",
       "               '2025-06-18 18:00:00', '2025-06-18 19:00:00',\n",
       "               '2025-06-18 20:00:00', '2025-06-18 21:00:00',\n",
       "               '2025-06-18 22:00:00', '2025-06-18 23:00:00',\n",
       "               '2025-06-19 00:00:00'],\n",
       "              dtype='datetime64[ns]', freq='h')"
      ]
     },
     "execution_count": 75,
     "metadata": {},
     "output_type": "execute_result"
    }
   ],
   "source": [
    "# H -->> Hourly data ( factor) NotE : In new version use h instead of H\n",
    "pd.date_range(start = '2025/6/17',end = '2025/6/19', freq = 'h')"
   ]
  },
  {
   "cell_type": "code",
   "execution_count": 76,
   "id": "c704b11a-d1f2-4fd8-b44e-d6c8e11dc1c4",
   "metadata": {},
   "outputs": [
    {
     "data": {
      "text/plain": [
       "DatetimeIndex(['2025-06-17 00:00:00', '2025-06-17 06:00:00',\n",
       "               '2025-06-17 12:00:00', '2025-06-17 18:00:00',\n",
       "               '2025-06-18 00:00:00', '2025-06-18 06:00:00',\n",
       "               '2025-06-18 12:00:00', '2025-06-18 18:00:00',\n",
       "               '2025-06-19 00:00:00'],\n",
       "              dtype='datetime64[ns]', freq='6h')"
      ]
     },
     "execution_count": 76,
     "metadata": {},
     "output_type": "execute_result"
    }
   ],
   "source": [
    "pd.date_range(start = '2025/6/17',end = '2025/6/19', freq = '6h')"
   ]
  },
  {
   "cell_type": "code",
   "execution_count": 79,
   "id": "4395539a-9537-436d-9f8d-d9b200db532e",
   "metadata": {},
   "outputs": [
    {
     "data": {
      "text/plain": [
       "DatetimeIndex(['2025-05-31'], dtype='datetime64[ns]', freq='ME')"
      ]
     },
     "execution_count": 79,
     "metadata": {},
     "output_type": "execute_result"
    }
   ],
   "source": [
    "# M -->> Month end (In new version M is replaced by ME)\n",
    "pd.date_range(start = '2025/5/15',end = '2025/6/19', freq = 'ME')"
   ]
  },
  {
   "cell_type": "code",
   "execution_count": 80,
   "id": "b24c6437-f9ec-44a2-b46d-e690a18c4695",
   "metadata": {},
   "outputs": [
    {
     "data": {
      "text/plain": [
       "DatetimeIndex(['2025-06-01'], dtype='datetime64[ns]', freq='MS')"
      ]
     },
     "execution_count": 80,
     "metadata": {},
     "output_type": "execute_result"
    }
   ],
   "source": [
    "# MS -->> Month Start\n",
    "pd.date_range(start = '2025/5/15',end = '2025/6/19', freq = 'MS')"
   ]
  },
  {
   "cell_type": "code",
   "execution_count": 84,
   "id": "e7bfe4dd-6a3e-40b1-98e2-5f46bb24f126",
   "metadata": {},
   "outputs": [
    {
     "data": {
      "text/plain": [
       "DatetimeIndex(['2025-12-31', '2026-12-31', '2027-12-31', '2028-12-31',\n",
       "               '2029-12-31', '2030-12-31', '2031-12-31', '2032-12-31',\n",
       "               '2033-12-31', '2034-12-31'],\n",
       "              dtype='datetime64[ns]', freq='YE-DEC')"
      ]
     },
     "execution_count": 84,
     "metadata": {},
     "output_type": "execute_result"
    }
   ],
   "source": [
    "# A -->> year End (Now in new version use YE instead of A otherwise error will show)\n",
    "pd.date_range(start = '2025/5/15',end = '2035/6/19', freq = 'YE')"
   ]
  },
  {
   "cell_type": "code",
   "execution_count": 85,
   "id": "731a9559-e948-469c-8a2d-f485a3190db6",
   "metadata": {},
   "outputs": [
    {
     "data": {
      "text/plain": [
       "DatetimeIndex(['2025-05-01', '2025-05-02', '2025-05-03', '2025-05-04',\n",
       "               '2025-05-05', '2025-05-06', '2025-05-07', '2025-05-08',\n",
       "               '2025-05-09', '2025-05-10', '2025-05-11', '2025-05-12',\n",
       "               '2025-05-13', '2025-05-14', '2025-05-15', '2025-05-16',\n",
       "               '2025-05-17', '2025-05-18', '2025-05-19', '2025-05-20',\n",
       "               '2025-05-21', '2025-05-22', '2025-05-23', '2025-05-24',\n",
       "               '2025-05-25'],\n",
       "              dtype='datetime64[ns]', freq='D')"
      ]
     },
     "execution_count": 85,
     "metadata": {},
     "output_type": "execute_result"
    }
   ],
   "source": [
    "# using periods (number of results)\n",
    "pd.date_range(start = '2025/5/1',periods = 25, freq = 'D')"
   ]
  },
  {
   "cell_type": "code",
   "execution_count": 87,
   "id": "a550991b-cbd7-43d4-853c-6a26570319a5",
   "metadata": {},
   "outputs": [
    {
     "data": {
      "text/plain": [
       "DatetimeIndex(['2025-05-01 00:00:00', '2025-05-01 01:00:00',\n",
       "               '2025-05-01 02:00:00', '2025-05-01 03:00:00',\n",
       "               '2025-05-01 04:00:00', '2025-05-01 05:00:00',\n",
       "               '2025-05-01 06:00:00', '2025-05-01 07:00:00',\n",
       "               '2025-05-01 08:00:00', '2025-05-01 09:00:00',\n",
       "               '2025-05-01 10:00:00', '2025-05-01 11:00:00',\n",
       "               '2025-05-01 12:00:00', '2025-05-01 13:00:00',\n",
       "               '2025-05-01 14:00:00', '2025-05-01 15:00:00',\n",
       "               '2025-05-01 16:00:00', '2025-05-01 17:00:00',\n",
       "               '2025-05-01 18:00:00', '2025-05-01 19:00:00',\n",
       "               '2025-05-01 20:00:00', '2025-05-01 21:00:00',\n",
       "               '2025-05-01 22:00:00', '2025-05-01 23:00:00',\n",
       "               '2025-05-02 00:00:00'],\n",
       "              dtype='datetime64[ns]', freq='h')"
      ]
     },
     "execution_count": 87,
     "metadata": {},
     "output_type": "execute_result"
    }
   ],
   "source": [
    "# using periods (number of results) -->> Hourly\n",
    "pd.date_range(start = '2025/5/1',periods = 25, freq = 'h')"
   ]
  },
  {
   "cell_type": "markdown",
   "id": "bf8b4026-5caa-43cf-afaa-96c8a42c10e2",
   "metadata": {},
   "source": [
    "##### to_datetime function"
   ]
  },
  {
   "cell_type": "markdown",
   "id": "838a1051-b561-4a7e-98e0-8ced084e6302",
   "metadata": {},
   "source": [
    "###### converts an existing objects to pandas timestamp/datetimeindex object "
   ]
  },
  {
   "cell_type": "code",
   "execution_count": 94,
   "id": "d837b34c-944e-45c6-9932-1d1a2bede447",
   "metadata": {},
   "outputs": [
    {
     "data": {
      "text/plain": [
       "0    2025\n",
       "1    2026\n",
       "2    2027\n",
       "dtype: object"
      ]
     },
     "execution_count": 94,
     "metadata": {},
     "output_type": "execute_result"
    }
   ],
   "source": [
    "# simple series example\n",
    "s = pd.Series(['2025/6/19','2026/6/19','2027/6/19'])\n",
    "s.str.split('/').str.get(0)\n",
    "# It's better to convert it into datetime make analysis easily"
   ]
  },
  {
   "cell_type": "code",
   "execution_count": 95,
   "id": "381716eb-da6f-48cf-9a6b-618b30653283",
   "metadata": {},
   "outputs": [
    {
     "data": {
      "text/plain": [
       "0    Thursday\n",
       "1      Friday\n",
       "2    Saturday\n",
       "dtype: object"
      ]
     },
     "execution_count": 95,
     "metadata": {},
     "output_type": "execute_result"
    }
   ],
   "source": [
    "pd.to_datetime(s).dt.day_name()"
   ]
  },
  {
   "cell_type": "raw",
   "id": "fae9f35c-18a3-4e30-9c77-c9a33620a990",
   "metadata": {},
   "source": [
    "Errors and their solution while converting to datetime"
   ]
  },
  {
   "cell_type": "code",
   "execution_count": 103,
   "id": "44191517-fcab-42ce-a617-dd79add18c55",
   "metadata": {},
   "outputs": [
    {
     "ename": "ValueError",
     "evalue": "time data \"2027/600/19\" doesn't match format \"%Y/%m/%d\", at position 2. You might want to try:\n    - passing `format` if your strings have a consistent format;\n    - passing `format='ISO8601'` if your strings are all ISO8601 but not necessarily in exactly the same format;\n    - passing `format='mixed'`, and the format will be inferred for each element individually. You might want to use `dayfirst` alongside this.",
     "output_type": "error",
     "traceback": [
      "\u001b[1;31m---------------------------------------------------------------------------\u001b[0m",
      "\u001b[1;31mValueError\u001b[0m                                Traceback (most recent call last)",
      "Cell \u001b[1;32mIn[103], line 3\u001b[0m\n\u001b[0;32m      1\u001b[0m \u001b[38;5;66;03m# some errors while converting to datetime\u001b[39;00m\n\u001b[0;32m      2\u001b[0m s \u001b[38;5;241m=\u001b[39m pd\u001b[38;5;241m.\u001b[39mSeries([\u001b[38;5;124m'\u001b[39m\u001b[38;5;124m2025/6/19\u001b[39m\u001b[38;5;124m'\u001b[39m,\u001b[38;5;124m'\u001b[39m\u001b[38;5;124m2026/6/19\u001b[39m\u001b[38;5;124m'\u001b[39m,\u001b[38;5;124m'\u001b[39m\u001b[38;5;124m2027/600/19\u001b[39m\u001b[38;5;124m'\u001b[39m])\n\u001b[1;32m----> 3\u001b[0m pd\u001b[38;5;241m.\u001b[39mto_datetime(s)\n",
      "File \u001b[1;32mC:\\ProgramData\\anaconda3\\Lib\\site-packages\\pandas\\core\\tools\\datetimes.py:1067\u001b[0m, in \u001b[0;36mto_datetime\u001b[1;34m(arg, errors, dayfirst, yearfirst, utc, format, exact, unit, infer_datetime_format, origin, cache)\u001b[0m\n\u001b[0;32m   1065\u001b[0m         result \u001b[38;5;241m=\u001b[39m arg\u001b[38;5;241m.\u001b[39mmap(cache_array)\n\u001b[0;32m   1066\u001b[0m     \u001b[38;5;28;01melse\u001b[39;00m:\n\u001b[1;32m-> 1067\u001b[0m         values \u001b[38;5;241m=\u001b[39m convert_listlike(arg\u001b[38;5;241m.\u001b[39m_values, \u001b[38;5;28mformat\u001b[39m)\n\u001b[0;32m   1068\u001b[0m         result \u001b[38;5;241m=\u001b[39m arg\u001b[38;5;241m.\u001b[39m_constructor(values, index\u001b[38;5;241m=\u001b[39marg\u001b[38;5;241m.\u001b[39mindex, name\u001b[38;5;241m=\u001b[39marg\u001b[38;5;241m.\u001b[39mname)\n\u001b[0;32m   1069\u001b[0m \u001b[38;5;28;01melif\u001b[39;00m \u001b[38;5;28misinstance\u001b[39m(arg, (ABCDataFrame, abc\u001b[38;5;241m.\u001b[39mMutableMapping)):\n",
      "File \u001b[1;32mC:\\ProgramData\\anaconda3\\Lib\\site-packages\\pandas\\core\\tools\\datetimes.py:433\u001b[0m, in \u001b[0;36m_convert_listlike_datetimes\u001b[1;34m(arg, format, name, utc, unit, errors, dayfirst, yearfirst, exact)\u001b[0m\n\u001b[0;32m    431\u001b[0m \u001b[38;5;66;03m# `format` could be inferred, or user didn't ask for mixed-format parsing.\u001b[39;00m\n\u001b[0;32m    432\u001b[0m \u001b[38;5;28;01mif\u001b[39;00m \u001b[38;5;28mformat\u001b[39m \u001b[38;5;129;01mis\u001b[39;00m \u001b[38;5;129;01mnot\u001b[39;00m \u001b[38;5;28;01mNone\u001b[39;00m \u001b[38;5;129;01mand\u001b[39;00m \u001b[38;5;28mformat\u001b[39m \u001b[38;5;241m!=\u001b[39m \u001b[38;5;124m\"\u001b[39m\u001b[38;5;124mmixed\u001b[39m\u001b[38;5;124m\"\u001b[39m:\n\u001b[1;32m--> 433\u001b[0m     \u001b[38;5;28;01mreturn\u001b[39;00m _array_strptime_with_fallback(arg, name, utc, \u001b[38;5;28mformat\u001b[39m, exact, errors)\n\u001b[0;32m    435\u001b[0m result, tz_parsed \u001b[38;5;241m=\u001b[39m objects_to_datetime64(\n\u001b[0;32m    436\u001b[0m     arg,\n\u001b[0;32m    437\u001b[0m     dayfirst\u001b[38;5;241m=\u001b[39mdayfirst,\n\u001b[1;32m   (...)\u001b[0m\n\u001b[0;32m    441\u001b[0m     allow_object\u001b[38;5;241m=\u001b[39m\u001b[38;5;28;01mTrue\u001b[39;00m,\n\u001b[0;32m    442\u001b[0m )\n\u001b[0;32m    444\u001b[0m \u001b[38;5;28;01mif\u001b[39;00m tz_parsed \u001b[38;5;129;01mis\u001b[39;00m \u001b[38;5;129;01mnot\u001b[39;00m \u001b[38;5;28;01mNone\u001b[39;00m:\n\u001b[0;32m    445\u001b[0m     \u001b[38;5;66;03m# We can take a shortcut since the datetime64 numpy array\u001b[39;00m\n\u001b[0;32m    446\u001b[0m     \u001b[38;5;66;03m# is in UTC\u001b[39;00m\n",
      "File \u001b[1;32mC:\\ProgramData\\anaconda3\\Lib\\site-packages\\pandas\\core\\tools\\datetimes.py:467\u001b[0m, in \u001b[0;36m_array_strptime_with_fallback\u001b[1;34m(arg, name, utc, fmt, exact, errors)\u001b[0m\n\u001b[0;32m    456\u001b[0m \u001b[38;5;28;01mdef\u001b[39;00m \u001b[38;5;21m_array_strptime_with_fallback\u001b[39m(\n\u001b[0;32m    457\u001b[0m     arg,\n\u001b[0;32m    458\u001b[0m     name,\n\u001b[1;32m   (...)\u001b[0m\n\u001b[0;32m    462\u001b[0m     errors: \u001b[38;5;28mstr\u001b[39m,\n\u001b[0;32m    463\u001b[0m ) \u001b[38;5;241m-\u001b[39m\u001b[38;5;241m>\u001b[39m Index:\n\u001b[0;32m    464\u001b[0m \u001b[38;5;250m    \u001b[39m\u001b[38;5;124;03m\"\"\"\u001b[39;00m\n\u001b[0;32m    465\u001b[0m \u001b[38;5;124;03m    Call array_strptime, with fallback behavior depending on 'errors'.\u001b[39;00m\n\u001b[0;32m    466\u001b[0m \u001b[38;5;124;03m    \"\"\"\u001b[39;00m\n\u001b[1;32m--> 467\u001b[0m     result, tz_out \u001b[38;5;241m=\u001b[39m array_strptime(arg, fmt, exact\u001b[38;5;241m=\u001b[39mexact, errors\u001b[38;5;241m=\u001b[39merrors, utc\u001b[38;5;241m=\u001b[39mutc)\n\u001b[0;32m    468\u001b[0m     \u001b[38;5;28;01mif\u001b[39;00m tz_out \u001b[38;5;129;01mis\u001b[39;00m \u001b[38;5;129;01mnot\u001b[39;00m \u001b[38;5;28;01mNone\u001b[39;00m:\n\u001b[0;32m    469\u001b[0m         unit \u001b[38;5;241m=\u001b[39m np\u001b[38;5;241m.\u001b[39mdatetime_data(result\u001b[38;5;241m.\u001b[39mdtype)[\u001b[38;5;241m0\u001b[39m]\n",
      "File \u001b[1;32mstrptime.pyx:501\u001b[0m, in \u001b[0;36mpandas._libs.tslibs.strptime.array_strptime\u001b[1;34m()\u001b[0m\n",
      "File \u001b[1;32mstrptime.pyx:451\u001b[0m, in \u001b[0;36mpandas._libs.tslibs.strptime.array_strptime\u001b[1;34m()\u001b[0m\n",
      "File \u001b[1;32mstrptime.pyx:583\u001b[0m, in \u001b[0;36mpandas._libs.tslibs.strptime._parse_with_format\u001b[1;34m()\u001b[0m\n",
      "\u001b[1;31mValueError\u001b[0m: time data \"2027/600/19\" doesn't match format \"%Y/%m/%d\", at position 2. You might want to try:\n    - passing `format` if your strings have a consistent format;\n    - passing `format='ISO8601'` if your strings are all ISO8601 but not necessarily in exactly the same format;\n    - passing `format='mixed'`, and the format will be inferred for each element individually. You might want to use `dayfirst` alongside this."
     ]
    }
   ],
   "source": [
    "# some errors while converting to datetime\n",
    "s = pd.Series(['2025/6/19','2026/6/19','2027/600/19'])\n",
    "pd.to_datetime(s)\n",
    "# The error is because month cannot greater than 12 but provided 600 let say by mistake to solve this we use a parameter "
   ]
  },
  {
   "cell_type": "code",
   "execution_count": 104,
   "id": "0810a9b1-6f35-4ea6-9d25-d46e9c2ab637",
   "metadata": {},
   "outputs": [
    {
     "data": {
      "text/plain": [
       "0   2025-06-19\n",
       "1   2026-06-19\n",
       "2          NaT\n",
       "dtype: datetime64[ns]"
      ]
     },
     "execution_count": 104,
     "metadata": {},
     "output_type": "execute_result"
    }
   ],
   "source": [
    "s = pd.Series(['2025/6/19','2026/6/19','2027/600/19'])\n",
    "pd.to_datetime(s,errors = 'coerce')"
   ]
  },
  {
   "cell_type": "code",
   "execution_count": 105,
   "id": "d9823f20-a73f-48f2-86be-9d14873f0e15",
   "metadata": {},
   "outputs": [
    {
     "data": {
      "text/plain": [
       "0    2025.0\n",
       "1    2026.0\n",
       "2       NaN\n",
       "dtype: float64"
      ]
     },
     "execution_count": 105,
     "metadata": {},
     "output_type": "execute_result"
    }
   ],
   "source": [
    "# Now you can do any operations related to this and it will not throw any error\n",
    "pd.to_datetime(s,errors = 'coerce').dt.year"
   ]
  },
  {
   "cell_type": "code",
   "execution_count": 106,
   "id": "693c6075-4026-4bab-9db6-87307f44d7ac",
   "metadata": {},
   "outputs": [
    {
     "data": {
      "text/plain": [
       "0    June\n",
       "1    June\n",
       "2     NaN\n",
       "dtype: object"
      ]
     },
     "execution_count": 106,
     "metadata": {},
     "output_type": "execute_result"
    }
   ],
   "source": [
    "pd.to_datetime(s,errors = 'coerce').dt.month_name()"
   ]
  },
  {
   "cell_type": "code",
   "execution_count": 116,
   "id": "73a14ced-3521-4637-981b-f6ef3c90811e",
   "metadata": {},
   "outputs": [
    {
     "data": {
      "text/plain": [
       "(277, 11)"
      ]
     },
     "execution_count": 116,
     "metadata": {},
     "output_type": "execute_result"
    }
   ],
   "source": [
    "df = pd.read_csv(r\"C:\\Users\\deepu\\OneDrive\\Desktop\\Python\\expense_data.csv\")\n",
    "df.shape"
   ]
  },
  {
   "cell_type": "code",
   "execution_count": 117,
   "id": "f85dbe1b-7502-4095-8a46-77c03820937d",
   "metadata": {},
   "outputs": [
    {
     "data": {
      "text/html": [
       "<div>\n",
       "<style scoped>\n",
       "    .dataframe tbody tr th:only-of-type {\n",
       "        vertical-align: middle;\n",
       "    }\n",
       "\n",
       "    .dataframe tbody tr th {\n",
       "        vertical-align: top;\n",
       "    }\n",
       "\n",
       "    .dataframe thead th {\n",
       "        text-align: right;\n",
       "    }\n",
       "</style>\n",
       "<table border=\"1\" class=\"dataframe\">\n",
       "  <thead>\n",
       "    <tr style=\"text-align: right;\">\n",
       "      <th></th>\n",
       "      <th>Date</th>\n",
       "      <th>Account</th>\n",
       "      <th>Category</th>\n",
       "      <th>Subcategory</th>\n",
       "      <th>Note</th>\n",
       "      <th>INR</th>\n",
       "      <th>Income/Expense</th>\n",
       "      <th>Note.1</th>\n",
       "      <th>Amount</th>\n",
       "      <th>Currency</th>\n",
       "      <th>Account.1</th>\n",
       "    </tr>\n",
       "  </thead>\n",
       "  <tbody>\n",
       "    <tr>\n",
       "      <th>0</th>\n",
       "      <td>3/2/2022 10:11</td>\n",
       "      <td>CUB - online payment</td>\n",
       "      <td>Food</td>\n",
       "      <td>NaN</td>\n",
       "      <td>Brownie</td>\n",
       "      <td>50.0</td>\n",
       "      <td>Expense</td>\n",
       "      <td>NaN</td>\n",
       "      <td>50.0</td>\n",
       "      <td>INR</td>\n",
       "      <td>50.0</td>\n",
       "    </tr>\n",
       "    <tr>\n",
       "      <th>1</th>\n",
       "      <td>3/2/2022 10:11</td>\n",
       "      <td>CUB - online payment</td>\n",
       "      <td>Other</td>\n",
       "      <td>NaN</td>\n",
       "      <td>To lended people</td>\n",
       "      <td>300.0</td>\n",
       "      <td>Expense</td>\n",
       "      <td>NaN</td>\n",
       "      <td>300.0</td>\n",
       "      <td>INR</td>\n",
       "      <td>300.0</td>\n",
       "    </tr>\n",
       "    <tr>\n",
       "      <th>2</th>\n",
       "      <td>3/1/2022 19:50</td>\n",
       "      <td>CUB - online payment</td>\n",
       "      <td>Food</td>\n",
       "      <td>NaN</td>\n",
       "      <td>Dinner</td>\n",
       "      <td>78.0</td>\n",
       "      <td>Expense</td>\n",
       "      <td>NaN</td>\n",
       "      <td>78.0</td>\n",
       "      <td>INR</td>\n",
       "      <td>78.0</td>\n",
       "    </tr>\n",
       "    <tr>\n",
       "      <th>3</th>\n",
       "      <td>3/1/2022 18:56</td>\n",
       "      <td>CUB - online payment</td>\n",
       "      <td>Transportation</td>\n",
       "      <td>NaN</td>\n",
       "      <td>Metro</td>\n",
       "      <td>30.0</td>\n",
       "      <td>Expense</td>\n",
       "      <td>NaN</td>\n",
       "      <td>30.0</td>\n",
       "      <td>INR</td>\n",
       "      <td>30.0</td>\n",
       "    </tr>\n",
       "    <tr>\n",
       "      <th>4</th>\n",
       "      <td>3/1/2022 18:22</td>\n",
       "      <td>CUB - online payment</td>\n",
       "      <td>Food</td>\n",
       "      <td>NaN</td>\n",
       "      <td>Snacks</td>\n",
       "      <td>67.0</td>\n",
       "      <td>Expense</td>\n",
       "      <td>NaN</td>\n",
       "      <td>67.0</td>\n",
       "      <td>INR</td>\n",
       "      <td>67.0</td>\n",
       "    </tr>\n",
       "  </tbody>\n",
       "</table>\n",
       "</div>"
      ],
      "text/plain": [
       "             Date               Account        Category  Subcategory  \\\n",
       "0  3/2/2022 10:11  CUB - online payment            Food          NaN   \n",
       "1  3/2/2022 10:11  CUB - online payment           Other          NaN   \n",
       "2  3/1/2022 19:50  CUB - online payment            Food          NaN   \n",
       "3  3/1/2022 18:56  CUB - online payment  Transportation          NaN   \n",
       "4  3/1/2022 18:22  CUB - online payment            Food          NaN   \n",
       "\n",
       "               Note    INR Income/Expense  Note.1  Amount Currency  Account.1  \n",
       "0           Brownie   50.0        Expense     NaN    50.0      INR       50.0  \n",
       "1  To lended people  300.0        Expense     NaN   300.0      INR      300.0  \n",
       "2            Dinner   78.0        Expense     NaN    78.0      INR       78.0  \n",
       "3             Metro   30.0        Expense     NaN    30.0      INR       30.0  \n",
       "4            Snacks   67.0        Expense     NaN    67.0      INR       67.0  "
      ]
     },
     "execution_count": 117,
     "metadata": {},
     "output_type": "execute_result"
    }
   ],
   "source": [
    "df.head()"
   ]
  },
  {
   "cell_type": "code",
   "execution_count": 118,
   "id": "0d17ca54-3321-4dd8-be73-9f5530e80098",
   "metadata": {},
   "outputs": [
    {
     "name": "stdout",
     "output_type": "stream",
     "text": [
      "<class 'pandas.core.frame.DataFrame'>\n",
      "RangeIndex: 277 entries, 0 to 276\n",
      "Data columns (total 11 columns):\n",
      " #   Column          Non-Null Count  Dtype  \n",
      "---  ------          --------------  -----  \n",
      " 0   Date            277 non-null    object \n",
      " 1   Account         277 non-null    object \n",
      " 2   Category        277 non-null    object \n",
      " 3   Subcategory     0 non-null      float64\n",
      " 4   Note            273 non-null    object \n",
      " 5   INR             277 non-null    float64\n",
      " 6   Income/Expense  277 non-null    object \n",
      " 7   Note.1          0 non-null      float64\n",
      " 8   Amount          277 non-null    float64\n",
      " 9   Currency        277 non-null    object \n",
      " 10  Account.1       277 non-null    float64\n",
      "dtypes: float64(5), object(6)\n",
      "memory usage: 23.9+ KB\n"
     ]
    }
   ],
   "source": [
    "df.info()\n",
    "# As date ka dtype is object but not datetime hence you cannot do any opertions related to datetime so first convert it."
   ]
  },
  {
   "cell_type": "code",
   "execution_count": 120,
   "id": "8f7a27f8-05b3-4310-a7e7-e2f0dc6620f5",
   "metadata": {},
   "outputs": [
    {
     "ename": "AttributeError",
     "evalue": "Can only use .dt accessor with datetimelike values",
     "output_type": "error",
     "traceback": [
      "\u001b[1;31m---------------------------------------------------------------------------\u001b[0m",
      "\u001b[1;31mAttributeError\u001b[0m                            Traceback (most recent call last)",
      "Cell \u001b[1;32mIn[120], line 1\u001b[0m\n\u001b[1;32m----> 1\u001b[0m df[\u001b[38;5;124m'\u001b[39m\u001b[38;5;124mDate\u001b[39m\u001b[38;5;124m'\u001b[39m]\u001b[38;5;241m.\u001b[39mdt\u001b[38;5;241m.\u001b[39myear\n",
      "File \u001b[1;32mC:\\ProgramData\\anaconda3\\Lib\\site-packages\\pandas\\core\\generic.py:6299\u001b[0m, in \u001b[0;36mNDFrame.__getattr__\u001b[1;34m(self, name)\u001b[0m\n\u001b[0;32m   6292\u001b[0m \u001b[38;5;28;01mif\u001b[39;00m (\n\u001b[0;32m   6293\u001b[0m     name \u001b[38;5;129;01mnot\u001b[39;00m \u001b[38;5;129;01min\u001b[39;00m \u001b[38;5;28mself\u001b[39m\u001b[38;5;241m.\u001b[39m_internal_names_set\n\u001b[0;32m   6294\u001b[0m     \u001b[38;5;129;01mand\u001b[39;00m name \u001b[38;5;129;01mnot\u001b[39;00m \u001b[38;5;129;01min\u001b[39;00m \u001b[38;5;28mself\u001b[39m\u001b[38;5;241m.\u001b[39m_metadata\n\u001b[0;32m   6295\u001b[0m     \u001b[38;5;129;01mand\u001b[39;00m name \u001b[38;5;129;01mnot\u001b[39;00m \u001b[38;5;129;01min\u001b[39;00m \u001b[38;5;28mself\u001b[39m\u001b[38;5;241m.\u001b[39m_accessors\n\u001b[0;32m   6296\u001b[0m     \u001b[38;5;129;01mand\u001b[39;00m \u001b[38;5;28mself\u001b[39m\u001b[38;5;241m.\u001b[39m_info_axis\u001b[38;5;241m.\u001b[39m_can_hold_identifiers_and_holds_name(name)\n\u001b[0;32m   6297\u001b[0m ):\n\u001b[0;32m   6298\u001b[0m     \u001b[38;5;28;01mreturn\u001b[39;00m \u001b[38;5;28mself\u001b[39m[name]\n\u001b[1;32m-> 6299\u001b[0m \u001b[38;5;28;01mreturn\u001b[39;00m \u001b[38;5;28mobject\u001b[39m\u001b[38;5;241m.\u001b[39m\u001b[38;5;21m__getattribute__\u001b[39m(\u001b[38;5;28mself\u001b[39m, name)\n",
      "File \u001b[1;32mC:\\ProgramData\\anaconda3\\Lib\\site-packages\\pandas\\core\\accessor.py:224\u001b[0m, in \u001b[0;36mCachedAccessor.__get__\u001b[1;34m(self, obj, cls)\u001b[0m\n\u001b[0;32m    221\u001b[0m \u001b[38;5;28;01mif\u001b[39;00m obj \u001b[38;5;129;01mis\u001b[39;00m \u001b[38;5;28;01mNone\u001b[39;00m:\n\u001b[0;32m    222\u001b[0m     \u001b[38;5;66;03m# we're accessing the attribute of the class, i.e., Dataset.geo\u001b[39;00m\n\u001b[0;32m    223\u001b[0m     \u001b[38;5;28;01mreturn\u001b[39;00m \u001b[38;5;28mself\u001b[39m\u001b[38;5;241m.\u001b[39m_accessor\n\u001b[1;32m--> 224\u001b[0m accessor_obj \u001b[38;5;241m=\u001b[39m \u001b[38;5;28mself\u001b[39m\u001b[38;5;241m.\u001b[39m_accessor(obj)\n\u001b[0;32m    225\u001b[0m \u001b[38;5;66;03m# Replace the property with the accessor object. Inspired by:\u001b[39;00m\n\u001b[0;32m    226\u001b[0m \u001b[38;5;66;03m# https://www.pydanny.com/cached-property.html\u001b[39;00m\n\u001b[0;32m    227\u001b[0m \u001b[38;5;66;03m# We need to use object.__setattr__ because we overwrite __setattr__ on\u001b[39;00m\n\u001b[0;32m    228\u001b[0m \u001b[38;5;66;03m# NDFrame\u001b[39;00m\n\u001b[0;32m    229\u001b[0m \u001b[38;5;28mobject\u001b[39m\u001b[38;5;241m.\u001b[39m\u001b[38;5;21m__setattr__\u001b[39m(obj, \u001b[38;5;28mself\u001b[39m\u001b[38;5;241m.\u001b[39m_name, accessor_obj)\n",
      "File \u001b[1;32mC:\\ProgramData\\anaconda3\\Lib\\site-packages\\pandas\\core\\indexes\\accessors.py:643\u001b[0m, in \u001b[0;36mCombinedDatetimelikeProperties.__new__\u001b[1;34m(cls, data)\u001b[0m\n\u001b[0;32m    640\u001b[0m \u001b[38;5;28;01melif\u001b[39;00m \u001b[38;5;28misinstance\u001b[39m(data\u001b[38;5;241m.\u001b[39mdtype, PeriodDtype):\n\u001b[0;32m    641\u001b[0m     \u001b[38;5;28;01mreturn\u001b[39;00m PeriodProperties(data, orig)\n\u001b[1;32m--> 643\u001b[0m \u001b[38;5;28;01mraise\u001b[39;00m \u001b[38;5;167;01mAttributeError\u001b[39;00m(\u001b[38;5;124m\"\u001b[39m\u001b[38;5;124mCan only use .dt accessor with datetimelike values\u001b[39m\u001b[38;5;124m\"\u001b[39m)\n",
      "\u001b[1;31mAttributeError\u001b[0m: Can only use .dt accessor with datetimelike values"
     ]
    }
   ],
   "source": [
    "df['Date'].dt.year\n",
    "# Gives error bcoz dtype of datetime is object "
   ]
  },
  {
   "cell_type": "code",
   "execution_count": 121,
   "id": "a189106e-58fe-448c-b81f-4bb96f261d91",
   "metadata": {},
   "outputs": [],
   "source": [
    "df['Date'] = pd.to_datetime(df['Date'])"
   ]
  },
  {
   "cell_type": "code",
   "execution_count": 122,
   "id": "9725e353-ebf6-43c1-b717-5782d2433d24",
   "metadata": {},
   "outputs": [
    {
     "name": "stdout",
     "output_type": "stream",
     "text": [
      "<class 'pandas.core.frame.DataFrame'>\n",
      "RangeIndex: 277 entries, 0 to 276\n",
      "Data columns (total 11 columns):\n",
      " #   Column          Non-Null Count  Dtype         \n",
      "---  ------          --------------  -----         \n",
      " 0   Date            277 non-null    datetime64[ns]\n",
      " 1   Account         277 non-null    object        \n",
      " 2   Category        277 non-null    object        \n",
      " 3   Subcategory     0 non-null      float64       \n",
      " 4   Note            273 non-null    object        \n",
      " 5   INR             277 non-null    float64       \n",
      " 6   Income/Expense  277 non-null    object        \n",
      " 7   Note.1          0 non-null      float64       \n",
      " 8   Amount          277 non-null    float64       \n",
      " 9   Currency        277 non-null    object        \n",
      " 10  Account.1       277 non-null    float64       \n",
      "dtypes: datetime64[ns](1), float64(5), object(5)\n",
      "memory usage: 23.9+ KB\n"
     ]
    }
   ],
   "source": [
    "# Now you can check by df.info that dtype of date is  changes into datetime from object\n",
    "df.info()"
   ]
  },
  {
   "cell_type": "code",
   "execution_count": 124,
   "id": "7283509a-0d59-43f4-ba71-a8af9219e8fd",
   "metadata": {},
   "outputs": [],
   "source": [
    "# Now using dt accessor you can do any operations"
   ]
  },
  {
   "cell_type": "markdown",
   "id": "d1daa4a2-2c9e-4c85-ad3b-100e7aa4a0b2",
   "metadata": {},
   "source": [
    "##### dt accessor\n",
    "###### Accessor object for datetime like properties of the Series values."
   ]
  },
  {
   "cell_type": "code",
   "execution_count": 125,
   "id": "aed5ae1c-3fcb-48d6-a88d-8048ae4fd680",
   "metadata": {},
   "outputs": [
    {
     "data": {
      "text/plain": [
       "0      2022\n",
       "1      2022\n",
       "2      2022\n",
       "3      2022\n",
       "4      2022\n",
       "       ... \n",
       "272    2021\n",
       "273    2021\n",
       "274    2021\n",
       "275    2021\n",
       "276    2021\n",
       "Name: Date, Length: 277, dtype: int32"
      ]
     },
     "execution_count": 125,
     "metadata": {},
     "output_type": "execute_result"
    }
   ],
   "source": [
    "df['Date'].dt.year"
   ]
  },
  {
   "cell_type": "code",
   "execution_count": 130,
   "id": "9a88fa58-bf35-4236-9f59-613923f692a2",
   "metadata": {},
   "outputs": [
    {
     "data": {
      "text/plain": [
       "0         March\n",
       "1         March\n",
       "2         March\n",
       "3         March\n",
       "4         March\n",
       "         ...   \n",
       "272    November\n",
       "273    November\n",
       "274    November\n",
       "275    November\n",
       "276    November\n",
       "Name: Date, Length: 277, dtype: object"
      ]
     },
     "execution_count": 130,
     "metadata": {},
     "output_type": "execute_result"
    }
   ],
   "source": [
    "df['Date'].dt.month_name()"
   ]
  },
  {
   "cell_type": "code",
   "execution_count": 131,
   "id": "4f23ceaa-37fa-49fa-bbe0-a8e0fae61bcb",
   "metadata": {},
   "outputs": [
    {
     "data": {
      "text/plain": [
       "0      Wednesday\n",
       "1      Wednesday\n",
       "2        Tuesday\n",
       "3        Tuesday\n",
       "4        Tuesday\n",
       "         ...    \n",
       "272       Monday\n",
       "273       Monday\n",
       "274       Sunday\n",
       "275       Sunday\n",
       "276       Sunday\n",
       "Name: Date, Length: 277, dtype: object"
      ]
     },
     "execution_count": 131,
     "metadata": {},
     "output_type": "execute_result"
    }
   ],
   "source": [
    "df['Date'].dt.day_name()"
   ]
  },
  {
   "cell_type": "code",
   "execution_count": 133,
   "id": "e18b60fe-5076-4832-bdc2-390faf28cdf9",
   "metadata": {},
   "outputs": [
    {
     "data": {
      "text/plain": [
       "0      False\n",
       "1      False\n",
       "2      False\n",
       "3      False\n",
       "4      False\n",
       "       ...  \n",
       "272    False\n",
       "273    False\n",
       "274    False\n",
       "275    False\n",
       "276    False\n",
       "Name: Date, Length: 277, dtype: bool"
      ]
     },
     "execution_count": 133,
     "metadata": {},
     "output_type": "execute_result"
    }
   ],
   "source": [
    "df['Date'].dt.is_month_end"
   ]
  },
  {
   "cell_type": "code",
   "execution_count": 134,
   "id": "3524a03f-17cd-453a-b70c-e867e74fe961",
   "metadata": {},
   "outputs": [
    {
     "data": {
      "text/plain": [
       "0      False\n",
       "1      False\n",
       "2      False\n",
       "3      False\n",
       "4      False\n",
       "       ...  \n",
       "272    False\n",
       "273    False\n",
       "274    False\n",
       "275    False\n",
       "276    False\n",
       "Name: Date, Length: 277, dtype: bool"
      ]
     },
     "execution_count": 134,
     "metadata": {},
     "output_type": "execute_result"
    }
   ],
   "source": [
    "df['Date'].dt.is_quarter_end"
   ]
  },
  {
   "cell_type": "code",
   "execution_count": 135,
   "id": "55b6eca4-ba79-43a7-9da1-db57bd86e387",
   "metadata": {},
   "outputs": [
    {
     "data": {
      "text/plain": [
       "0      False\n",
       "1      False\n",
       "2      False\n",
       "3      False\n",
       "4      False\n",
       "       ...  \n",
       "272    False\n",
       "273    False\n",
       "274    False\n",
       "275    False\n",
       "276    False\n",
       "Name: Date, Length: 277, dtype: bool"
      ]
     },
     "execution_count": 135,
     "metadata": {},
     "output_type": "execute_result"
    }
   ],
   "source": [
    "df['Date'].dt.is_quarter_start"
   ]
  },
  {
   "cell_type": "code",
   "execution_count": 136,
   "id": "0be6e80f-49c7-4bcb-b229-72f78dc82b29",
   "metadata": {},
   "outputs": [
    {
     "data": {
      "text/plain": [
       "[<matplotlib.lines.Line2D at 0x15685f70c50>]"
      ]
     },
     "execution_count": 136,
     "metadata": {},
     "output_type": "execute_result"
    },
    {
     "data": {
      "image/png": "[encoded data removed]",
      "text/plain": [
       "<Figure size 640x480 with 1 Axes>"
      ]
     },
     "metadata": {},
     "output_type": "display_data"
    }
   ],
   "source": [
    "# plotting graph\n",
    "import matplotlib.pyplot as plt\n",
    "plt.plot(df['Date'],df['INR'])"
   ]
  },
  {
   "cell_type": "code",
   "execution_count": 139,
   "id": "b687d329-ba6b-4804-8af9-061205379abc",
   "metadata": {},
   "outputs": [
    {
     "data": {
      "text/html": [
       "<div>\n",
       "<style scoped>\n",
       "    .dataframe tbody tr th:only-of-type {\n",
       "        vertical-align: middle;\n",
       "    }\n",
       "\n",
       "    .dataframe tbody tr th {\n",
       "        vertical-align: top;\n",
       "    }\n",
       "\n",
       "    .dataframe thead th {\n",
       "        text-align: right;\n",
       "    }\n",
       "</style>\n",
       "<table border=\"1\" class=\"dataframe\">\n",
       "  <thead>\n",
       "    <tr style=\"text-align: right;\">\n",
       "      <th></th>\n",
       "      <th>Date</th>\n",
       "      <th>Account</th>\n",
       "      <th>Category</th>\n",
       "      <th>Subcategory</th>\n",
       "      <th>Note</th>\n",
       "      <th>INR</th>\n",
       "      <th>Income/Expense</th>\n",
       "      <th>Note.1</th>\n",
       "      <th>Amount</th>\n",
       "      <th>Currency</th>\n",
       "      <th>Account.1</th>\n",
       "      <th>day_name</th>\n",
       "    </tr>\n",
       "  </thead>\n",
       "  <tbody>\n",
       "    <tr>\n",
       "      <th>0</th>\n",
       "      <td>2022-03-02 10:11:00</td>\n",
       "      <td>CUB - online payment</td>\n",
       "      <td>Food</td>\n",
       "      <td>NaN</td>\n",
       "      <td>Brownie</td>\n",
       "      <td>50.0</td>\n",
       "      <td>Expense</td>\n",
       "      <td>NaN</td>\n",
       "      <td>50.0</td>\n",
       "      <td>INR</td>\n",
       "      <td>50.0</td>\n",
       "      <td>Wednesday</td>\n",
       "    </tr>\n",
       "    <tr>\n",
       "      <th>1</th>\n",
       "      <td>2022-03-02 10:11:00</td>\n",
       "      <td>CUB - online payment</td>\n",
       "      <td>Other</td>\n",
       "      <td>NaN</td>\n",
       "      <td>To lended people</td>\n",
       "      <td>300.0</td>\n",
       "      <td>Expense</td>\n",
       "      <td>NaN</td>\n",
       "      <td>300.0</td>\n",
       "      <td>INR</td>\n",
       "      <td>300.0</td>\n",
       "      <td>Wednesday</td>\n",
       "    </tr>\n",
       "    <tr>\n",
       "      <th>2</th>\n",
       "      <td>2022-03-01 19:50:00</td>\n",
       "      <td>CUB - online payment</td>\n",
       "      <td>Food</td>\n",
       "      <td>NaN</td>\n",
       "      <td>Dinner</td>\n",
       "      <td>78.0</td>\n",
       "      <td>Expense</td>\n",
       "      <td>NaN</td>\n",
       "      <td>78.0</td>\n",
       "      <td>INR</td>\n",
       "      <td>78.0</td>\n",
       "      <td>Tuesday</td>\n",
       "    </tr>\n",
       "    <tr>\n",
       "      <th>3</th>\n",
       "      <td>2022-03-01 18:56:00</td>\n",
       "      <td>CUB - online payment</td>\n",
       "      <td>Transportation</td>\n",
       "      <td>NaN</td>\n",
       "      <td>Metro</td>\n",
       "      <td>30.0</td>\n",
       "      <td>Expense</td>\n",
       "      <td>NaN</td>\n",
       "      <td>30.0</td>\n",
       "      <td>INR</td>\n",
       "      <td>30.0</td>\n",
       "      <td>Tuesday</td>\n",
       "    </tr>\n",
       "    <tr>\n",
       "      <th>4</th>\n",
       "      <td>2022-03-01 18:22:00</td>\n",
       "      <td>CUB - online payment</td>\n",
       "      <td>Food</td>\n",
       "      <td>NaN</td>\n",
       "      <td>Snacks</td>\n",
       "      <td>67.0</td>\n",
       "      <td>Expense</td>\n",
       "      <td>NaN</td>\n",
       "      <td>67.0</td>\n",
       "      <td>INR</td>\n",
       "      <td>67.0</td>\n",
       "      <td>Tuesday</td>\n",
       "    </tr>\n",
       "  </tbody>\n",
       "</table>\n",
       "</div>"
      ],
      "text/plain": [
       "                 Date               Account        Category  Subcategory  \\\n",
       "0 2022-03-02 10:11:00  CUB - online payment            Food          NaN   \n",
       "1 2022-03-02 10:11:00  CUB - online payment           Other          NaN   \n",
       "2 2022-03-01 19:50:00  CUB - online payment            Food          NaN   \n",
       "3 2022-03-01 18:56:00  CUB - online payment  Transportation          NaN   \n",
       "4 2022-03-01 18:22:00  CUB - online payment            Food          NaN   \n",
       "\n",
       "               Note    INR Income/Expense  Note.1  Amount Currency  Account.1  \\\n",
       "0           Brownie   50.0        Expense     NaN    50.0      INR       50.0   \n",
       "1  To lended people  300.0        Expense     NaN   300.0      INR      300.0   \n",
       "2            Dinner   78.0        Expense     NaN    78.0      INR       78.0   \n",
       "3             Metro   30.0        Expense     NaN    30.0      INR       30.0   \n",
       "4            Snacks   67.0        Expense     NaN    67.0      INR       67.0   \n",
       "\n",
       "    day_name  \n",
       "0  Wednesday  \n",
       "1  Wednesday  \n",
       "2    Tuesday  \n",
       "3    Tuesday  \n",
       "4    Tuesday  "
      ]
     },
     "execution_count": 139,
     "metadata": {},
     "output_type": "execute_result"
    }
   ],
   "source": [
    "# day name wise bar chart/ month wise bar chart\n",
    "df['day_name'] = df['Date'].dt.day_name()\n",
    "df.head()"
   ]
  },
  {
   "cell_type": "code",
   "execution_count": 140,
   "id": "cbe790dc-b0b3-4516-b56c-f8a729a21378",
   "metadata": {},
   "outputs": [
    {
     "data": {
      "text/plain": [
       "<Axes: xlabel='day_name'>"
      ]
     },
     "execution_count": 140,
     "metadata": {},
     "output_type": "execute_result"
    },
    {
     "data": {
      "image/png": "[encoded data removed]",
      "text/plain": [
       "<Figure size 640x480 with 1 Axes>"
      ]
     },
     "metadata": {},
     "output_type": "display_data"
    }
   ],
   "source": [
    "# Now applying groupby \n",
    "df.groupby('day_name')['INR'].sum().plot(kind = 'bar')"
   ]
  },
  {
   "cell_type": "code",
   "execution_count": 145,
   "id": "307a62c7-03e2-4e23-8e94-aafee0456316",
   "metadata": {},
   "outputs": [
    {
     "data": {
      "text/plain": [
       "<Axes: ylabel='INR'>"
      ]
     },
     "execution_count": 145,
     "metadata": {},
     "output_type": "execute_result"
    },
    {
     "data": {
      "image/png": "[encoded data removed]",
      "text/plain": [
       "<Figure size 640x480 with 1 Axes>"
      ]
     },
     "metadata": {},
     "output_type": "display_data"
    }
   ],
   "source": [
    "df.groupby('day_name')['INR'].sum().plot(kind = 'pie')"
   ]
  },
  {
   "cell_type": "code",
   "execution_count": null,
   "id": "23cfd749-05ee-4db0-bcd7-8a7305ca5098",
   "metadata": {},
   "outputs": [],
   "source": [
    "# Noe by month wise"
   ]
  },
  {
   "cell_type": "code",
   "execution_count": 141,
   "id": "35a53b89-0d8c-4c57-9ba2-5df1819222ae",
   "metadata": {},
   "outputs": [
    {
     "data": {
      "text/html": [
       "<div>\n",
       "<style scoped>\n",
       "    .dataframe tbody tr th:only-of-type {\n",
       "        vertical-align: middle;\n",
       "    }\n",
       "\n",
       "    .dataframe tbody tr th {\n",
       "        vertical-align: top;\n",
       "    }\n",
       "\n",
       "    .dataframe thead th {\n",
       "        text-align: right;\n",
       "    }\n",
       "</style>\n",
       "<table border=\"1\" class=\"dataframe\">\n",
       "  <thead>\n",
       "    <tr style=\"text-align: right;\">\n",
       "      <th></th>\n",
       "      <th>Date</th>\n",
       "      <th>Account</th>\n",
       "      <th>Category</th>\n",
       "      <th>Subcategory</th>\n",
       "      <th>Note</th>\n",
       "      <th>INR</th>\n",
       "      <th>Income/Expense</th>\n",
       "      <th>Note.1</th>\n",
       "      <th>Amount</th>\n",
       "      <th>Currency</th>\n",
       "      <th>Account.1</th>\n",
       "      <th>day_name</th>\n",
       "      <th>month_name</th>\n",
       "    </tr>\n",
       "  </thead>\n",
       "  <tbody>\n",
       "    <tr>\n",
       "      <th>0</th>\n",
       "      <td>2022-03-02 10:11:00</td>\n",
       "      <td>CUB - online payment</td>\n",
       "      <td>Food</td>\n",
       "      <td>NaN</td>\n",
       "      <td>Brownie</td>\n",
       "      <td>50.0</td>\n",
       "      <td>Expense</td>\n",
       "      <td>NaN</td>\n",
       "      <td>50.0</td>\n",
       "      <td>INR</td>\n",
       "      <td>50.0</td>\n",
       "      <td>Wednesday</td>\n",
       "      <td>March</td>\n",
       "    </tr>\n",
       "    <tr>\n",
       "      <th>1</th>\n",
       "      <td>2022-03-02 10:11:00</td>\n",
       "      <td>CUB - online payment</td>\n",
       "      <td>Other</td>\n",
       "      <td>NaN</td>\n",
       "      <td>To lended people</td>\n",
       "      <td>300.0</td>\n",
       "      <td>Expense</td>\n",
       "      <td>NaN</td>\n",
       "      <td>300.0</td>\n",
       "      <td>INR</td>\n",
       "      <td>300.0</td>\n",
       "      <td>Wednesday</td>\n",
       "      <td>March</td>\n",
       "    </tr>\n",
       "    <tr>\n",
       "      <th>2</th>\n",
       "      <td>2022-03-01 19:50:00</td>\n",
       "      <td>CUB - online payment</td>\n",
       "      <td>Food</td>\n",
       "      <td>NaN</td>\n",
       "      <td>Dinner</td>\n",
       "      <td>78.0</td>\n",
       "      <td>Expense</td>\n",
       "      <td>NaN</td>\n",
       "      <td>78.0</td>\n",
       "      <td>INR</td>\n",
       "      <td>78.0</td>\n",
       "      <td>Tuesday</td>\n",
       "      <td>March</td>\n",
       "    </tr>\n",
       "    <tr>\n",
       "      <th>3</th>\n",
       "      <td>2022-03-01 18:56:00</td>\n",
       "      <td>CUB - online payment</td>\n",
       "      <td>Transportation</td>\n",
       "      <td>NaN</td>\n",
       "      <td>Metro</td>\n",
       "      <td>30.0</td>\n",
       "      <td>Expense</td>\n",
       "      <td>NaN</td>\n",
       "      <td>30.0</td>\n",
       "      <td>INR</td>\n",
       "      <td>30.0</td>\n",
       "      <td>Tuesday</td>\n",
       "      <td>March</td>\n",
       "    </tr>\n",
       "    <tr>\n",
       "      <th>4</th>\n",
       "      <td>2022-03-01 18:22:00</td>\n",
       "      <td>CUB - online payment</td>\n",
       "      <td>Food</td>\n",
       "      <td>NaN</td>\n",
       "      <td>Snacks</td>\n",
       "      <td>67.0</td>\n",
       "      <td>Expense</td>\n",
       "      <td>NaN</td>\n",
       "      <td>67.0</td>\n",
       "      <td>INR</td>\n",
       "      <td>67.0</td>\n",
       "      <td>Tuesday</td>\n",
       "      <td>March</td>\n",
       "    </tr>\n",
       "  </tbody>\n",
       "</table>\n",
       "</div>"
      ],
      "text/plain": [
       "                 Date               Account        Category  Subcategory  \\\n",
       "0 2022-03-02 10:11:00  CUB - online payment            Food          NaN   \n",
       "1 2022-03-02 10:11:00  CUB - online payment           Other          NaN   \n",
       "2 2022-03-01 19:50:00  CUB - online payment            Food          NaN   \n",
       "3 2022-03-01 18:56:00  CUB - online payment  Transportation          NaN   \n",
       "4 2022-03-01 18:22:00  CUB - online payment            Food          NaN   \n",
       "\n",
       "               Note    INR Income/Expense  Note.1  Amount Currency  Account.1  \\\n",
       "0           Brownie   50.0        Expense     NaN    50.0      INR       50.0   \n",
       "1  To lended people  300.0        Expense     NaN   300.0      INR      300.0   \n",
       "2            Dinner   78.0        Expense     NaN    78.0      INR       78.0   \n",
       "3             Metro   30.0        Expense     NaN    30.0      INR       30.0   \n",
       "4            Snacks   67.0        Expense     NaN    67.0      INR       67.0   \n",
       "\n",
       "    day_name month_name  \n",
       "0  Wednesday      March  \n",
       "1  Wednesday      March  \n",
       "2    Tuesday      March  \n",
       "3    Tuesday      March  \n",
       "4    Tuesday      March  "
      ]
     },
     "execution_count": 141,
     "metadata": {},
     "output_type": "execute_result"
    }
   ],
   "source": [
    "df['month_name'] = df['Date'].dt.month_name()\n",
    "df.head()"
   ]
  },
  {
   "cell_type": "code",
   "execution_count": 143,
   "id": "e2168c7e-f06a-4e44-96b9-74a64abc4b91",
   "metadata": {},
   "outputs": [
    {
     "data": {
      "text/plain": [
       "<Axes: xlabel='month_name'>"
      ]
     },
     "execution_count": 143,
     "metadata": {},
     "output_type": "execute_result"
    },
    {
     "data": {
      "image/png": "[encoded data removed]",
      "text/plain": [
       "<Figure size 640x480 with 1 Axes>"
      ]
     },
     "metadata": {},
     "output_type": "display_data"
    }
   ],
   "source": [
    "df.groupby('month_name')['INR'].sum().plot(kind = 'bar')"
   ]
  },
  {
   "cell_type": "code",
   "execution_count": 146,
   "id": "5a424750-f7b0-44df-8c1e-f5f24b33998f",
   "metadata": {},
   "outputs": [
    {
     "data": {
      "text/plain": [
       "<Axes: ylabel='INR'>"
      ]
     },
     "execution_count": 146,
     "metadata": {},
     "output_type": "execute_result"
    },
    {
     "data": {
      "image/png": "[encoded data removed]",
      "text/plain": [
       "<Figure size 640x480 with 1 Axes>"
      ]
     },
     "metadata": {},
     "output_type": "display_data"
    }
   ],
   "source": [
    "df.groupby('month_name')['INR'].sum().plot(kind = 'pie')"
   ]
  },
  {
   "cell_type": "code",
   "execution_count": 151,
   "id": "b66562db-d0e8-4df5-a67e-82be20b44178",
   "metadata": {},
   "outputs": [
    {
     "data": {
      "text/plain": [
       "<Axes: ylabel='INR'>"
      ]
     },
     "execution_count": 151,
     "metadata": {},
     "output_type": "execute_result"
    },
    {
     "data": {
      "image/png": "[encoded data removed]",
      "text/plain": [
       "<Figure size 640x480 with 1 Axes>"
      ]
     },
     "metadata": {},
     "output_type": "display_data"
    }
   ],
   "source": [
    "df.groupby('month_name')['INR'].mean().plot(kind = 'pie')"
   ]
  },
  {
   "cell_type": "code",
   "execution_count": null,
   "id": "f1940665-7f3c-416a-b86a-044009989e34",
   "metadata": {},
   "outputs": [],
   "source": [
    "# Find the expenses made by him a"
   ]
  }
 ],
 "metadata": {
  "kernelspec": {
   "display_name": "Python 3 (ipykernel)",
   "language": "python",
   "name": "python3"
  },
  "language_info": {
   "codemirror_mode": {
    "name": "ipython",
    "version": 3
   },
   "file_extension": ".py",
   "mimetype": "text/x-python",
   "name": "python",
   "nbconvert_exporter": "python",
   "pygments_lexer": "ipython3",
   "version": "3.12.7"
  }
 },
 "nbformat": 4,
 "nbformat_minor": 5
}
